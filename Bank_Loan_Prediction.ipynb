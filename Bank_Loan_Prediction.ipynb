{
 "cells": [
  {
   "cell_type": "markdown",
   "metadata": {},
   "source": [
    "## Loan Prediction Dataset"
   ]
  },
  {
   "cell_type": "code",
   "execution_count": 55,
   "metadata": {
    "collapsed": true
   },
   "outputs": [],
   "source": [
    "import pandas as pd\n",
    "import numpy as np\n",
    "import seaborn as sns"
   ]
  },
  {
   "cell_type": "code",
   "execution_count": 3,
   "metadata": {},
   "outputs": [
    {
     "data": {
      "text/html": [
       "<div>\n",
       "<style>\n",
       "    .dataframe thead tr:only-child th {\n",
       "        text-align: right;\n",
       "    }\n",
       "\n",
       "    .dataframe thead th {\n",
       "        text-align: left;\n",
       "    }\n",
       "\n",
       "    .dataframe tbody tr th {\n",
       "        vertical-align: top;\n",
       "    }\n",
       "</style>\n",
       "<table border=\"1\" class=\"dataframe\">\n",
       "  <thead>\n",
       "    <tr style=\"text-align: right;\">\n",
       "      <th></th>\n",
       "      <th>Loan_ID</th>\n",
       "      <th>Gender</th>\n",
       "      <th>Married</th>\n",
       "      <th>Dependents</th>\n",
       "      <th>Education</th>\n",
       "      <th>Self_Employed</th>\n",
       "      <th>ApplicantIncome</th>\n",
       "      <th>CoapplicantIncome</th>\n",
       "      <th>LoanAmount</th>\n",
       "      <th>Loan_Amount_Term</th>\n",
       "      <th>Credit_History</th>\n",
       "      <th>Property_Area</th>\n",
       "      <th>Loan_Status</th>\n",
       "    </tr>\n",
       "  </thead>\n",
       "  <tbody>\n",
       "    <tr>\n",
       "      <th>0</th>\n",
       "      <td>LP001002</td>\n",
       "      <td>Male</td>\n",
       "      <td>No</td>\n",
       "      <td>0</td>\n",
       "      <td>Graduate</td>\n",
       "      <td>No</td>\n",
       "      <td>5849</td>\n",
       "      <td>0.0</td>\n",
       "      <td>NaN</td>\n",
       "      <td>360.0</td>\n",
       "      <td>1.0</td>\n",
       "      <td>Urban</td>\n",
       "      <td>Y</td>\n",
       "    </tr>\n",
       "    <tr>\n",
       "      <th>1</th>\n",
       "      <td>LP001003</td>\n",
       "      <td>Male</td>\n",
       "      <td>Yes</td>\n",
       "      <td>1</td>\n",
       "      <td>Graduate</td>\n",
       "      <td>No</td>\n",
       "      <td>4583</td>\n",
       "      <td>1508.0</td>\n",
       "      <td>128.0</td>\n",
       "      <td>360.0</td>\n",
       "      <td>1.0</td>\n",
       "      <td>Rural</td>\n",
       "      <td>N</td>\n",
       "    </tr>\n",
       "    <tr>\n",
       "      <th>2</th>\n",
       "      <td>LP001005</td>\n",
       "      <td>Male</td>\n",
       "      <td>Yes</td>\n",
       "      <td>0</td>\n",
       "      <td>Graduate</td>\n",
       "      <td>Yes</td>\n",
       "      <td>3000</td>\n",
       "      <td>0.0</td>\n",
       "      <td>66.0</td>\n",
       "      <td>360.0</td>\n",
       "      <td>1.0</td>\n",
       "      <td>Urban</td>\n",
       "      <td>Y</td>\n",
       "    </tr>\n",
       "    <tr>\n",
       "      <th>3</th>\n",
       "      <td>LP001006</td>\n",
       "      <td>Male</td>\n",
       "      <td>Yes</td>\n",
       "      <td>0</td>\n",
       "      <td>Not Graduate</td>\n",
       "      <td>No</td>\n",
       "      <td>2583</td>\n",
       "      <td>2358.0</td>\n",
       "      <td>120.0</td>\n",
       "      <td>360.0</td>\n",
       "      <td>1.0</td>\n",
       "      <td>Urban</td>\n",
       "      <td>Y</td>\n",
       "    </tr>\n",
       "    <tr>\n",
       "      <th>4</th>\n",
       "      <td>LP001008</td>\n",
       "      <td>Male</td>\n",
       "      <td>No</td>\n",
       "      <td>0</td>\n",
       "      <td>Graduate</td>\n",
       "      <td>No</td>\n",
       "      <td>6000</td>\n",
       "      <td>0.0</td>\n",
       "      <td>141.0</td>\n",
       "      <td>360.0</td>\n",
       "      <td>1.0</td>\n",
       "      <td>Urban</td>\n",
       "      <td>Y</td>\n",
       "    </tr>\n",
       "  </tbody>\n",
       "</table>\n",
       "</div>"
      ],
      "text/plain": [
       "    Loan_ID Gender Married Dependents     Education Self_Employed  \\\n",
       "0  LP001002   Male      No          0      Graduate            No   \n",
       "1  LP001003   Male     Yes          1      Graduate            No   \n",
       "2  LP001005   Male     Yes          0      Graduate           Yes   \n",
       "3  LP001006   Male     Yes          0  Not Graduate            No   \n",
       "4  LP001008   Male      No          0      Graduate            No   \n",
       "\n",
       "   ApplicantIncome  CoapplicantIncome  LoanAmount  Loan_Amount_Term  \\\n",
       "0             5849                0.0         NaN             360.0   \n",
       "1             4583             1508.0       128.0             360.0   \n",
       "2             3000                0.0        66.0             360.0   \n",
       "3             2583             2358.0       120.0             360.0   \n",
       "4             6000                0.0       141.0             360.0   \n",
       "\n",
       "   Credit_History Property_Area Loan_Status  \n",
       "0             1.0         Urban           Y  \n",
       "1             1.0         Rural           N  \n",
       "2             1.0         Urban           Y  \n",
       "3             1.0         Urban           Y  \n",
       "4             1.0         Urban           Y  "
      ]
     },
     "execution_count": 3,
     "metadata": {},
     "output_type": "execute_result"
    }
   ],
   "source": [
    "loanDf=pd.read_csv(\"F:/courses/UseCases/24 UseCase/Loan Prediction Dataset/train_u6lujuX_CVtuZ9i.csv\")\n",
    "loanDf.head()"
   ]
  },
  {
   "cell_type": "markdown",
   "metadata": {},
   "source": [
    "# EDA"
   ]
  },
  {
   "cell_type": "code",
   "execution_count": 10,
   "metadata": {},
   "outputs": [
    {
     "data": {
      "text/plain": [
       "(614, 13)"
      ]
     },
     "execution_count": 10,
     "metadata": {},
     "output_type": "execute_result"
    }
   ],
   "source": [
    "loanDf.shape"
   ]
  },
  {
   "cell_type": "code",
   "execution_count": 8,
   "metadata": {},
   "outputs": [
    {
     "data": {
      "text/plain": [
       "array(['Graduate', 'Not Graduate'], dtype=object)"
      ]
     },
     "execution_count": 8,
     "metadata": {},
     "output_type": "execute_result"
    }
   ],
   "source": [
    "loanDf['Education'].unique()"
   ]
  },
  {
   "cell_type": "code",
   "execution_count": 11,
   "metadata": {},
   "outputs": [
    {
     "data": {
      "text/plain": [
       "array(['0', '1', '2', '3+', nan], dtype=object)"
      ]
     },
     "execution_count": 11,
     "metadata": {},
     "output_type": "execute_result"
    }
   ],
   "source": [
    "loanDf['Dependents'].unique()"
   ]
  },
  {
   "cell_type": "code",
   "execution_count": 235,
   "metadata": {},
   "outputs": [
    {
     "data": {
      "text/plain": [
       "<matplotlib.axes._subplots.AxesSubplot at 0x23e5b7835c0>"
      ]
     },
     "execution_count": 235,
     "metadata": {},
     "output_type": "execute_result"
    },
    {
     "data": {
      "image/png": "[encoded data removed]",
      "text/plain": [
       "<matplotlib.figure.Figure at 0x23e5b815c50>"
      ]
     },
     "metadata": {},
     "output_type": "display_data"
    }
   ],
   "source": [
    "%matplotlib inline\n",
    "loanDf['Loan_Status'].value_counts().plot('bar')"
   ]
  },
  {
   "cell_type": "code",
   "execution_count": 21,
   "metadata": {},
   "outputs": [
    {
     "data": {
      "text/html": [
       "<div>\n",
       "<style>\n",
       "    .dataframe thead tr:only-child th {\n",
       "        text-align: right;\n",
       "    }\n",
       "\n",
       "    .dataframe thead th {\n",
       "        text-align: left;\n",
       "    }\n",
       "\n",
       "    .dataframe tbody tr th {\n",
       "        vertical-align: top;\n",
       "    }\n",
       "</style>\n",
       "<table border=\"1\" class=\"dataframe\">\n",
       "  <thead>\n",
       "    <tr style=\"text-align: right;\">\n",
       "      <th></th>\n",
       "      <th>ApplicantIncome</th>\n",
       "      <th>CoapplicantIncome</th>\n",
       "      <th>LoanAmount</th>\n",
       "      <th>Loan_Amount_Term</th>\n",
       "      <th>Credit_History</th>\n",
       "    </tr>\n",
       "    <tr>\n",
       "      <th>Loan_Status</th>\n",
       "      <th></th>\n",
       "      <th></th>\n",
       "      <th></th>\n",
       "      <th></th>\n",
       "      <th></th>\n",
       "    </tr>\n",
       "  </thead>\n",
       "  <tbody>\n",
       "    <tr>\n",
       "      <th>N</th>\n",
       "      <td>5446.078125</td>\n",
       "      <td>1877.807292</td>\n",
       "      <td>151.220994</td>\n",
       "      <td>344.064516</td>\n",
       "      <td>0.541899</td>\n",
       "    </tr>\n",
       "    <tr>\n",
       "      <th>Y</th>\n",
       "      <td>5384.068720</td>\n",
       "      <td>1504.516398</td>\n",
       "      <td>144.294404</td>\n",
       "      <td>341.072464</td>\n",
       "      <td>0.981818</td>\n",
       "    </tr>\n",
       "  </tbody>\n",
       "</table>\n",
       "</div>"
      ],
      "text/plain": [
       "             ApplicantIncome  CoapplicantIncome  LoanAmount  Loan_Amount_Term  \\\n",
       "Loan_Status                                                                     \n",
       "N                5446.078125        1877.807292  151.220994        344.064516   \n",
       "Y                5384.068720        1504.516398  144.294404        341.072464   \n",
       "\n",
       "             Credit_History  \n",
       "Loan_Status                  \n",
       "N                  0.541899  \n",
       "Y                  0.981818  "
      ]
     },
     "execution_count": 21,
     "metadata": {},
     "output_type": "execute_result"
    }
   ],
   "source": [
    "loanDf.groupby('Loan_Status').mean()"
   ]
  },
  {
   "cell_type": "code",
   "execution_count": 22,
   "metadata": {},
   "outputs": [
    {
     "data": {
      "text/plain": [
       "array([ 1.,  0., nan])"
      ]
     },
     "execution_count": 22,
     "metadata": {},
     "output_type": "execute_result"
    }
   ],
   "source": [
    "loanDf['Credit_History'].unique()"
   ]
  },
  {
   "cell_type": "code",
   "execution_count": 30,
   "metadata": {},
   "outputs": [
    {
     "data": {
      "text/html": [
       "<div>\n",
       "<style>\n",
       "    .dataframe thead tr:only-child th {\n",
       "        text-align: right;\n",
       "    }\n",
       "\n",
       "    .dataframe thead th {\n",
       "        text-align: left;\n",
       "    }\n",
       "\n",
       "    .dataframe tbody tr th {\n",
       "        vertical-align: top;\n",
       "    }\n",
       "</style>\n",
       "<table border=\"1\" class=\"dataframe\">\n",
       "  <thead>\n",
       "    <tr style=\"text-align: right;\">\n",
       "      <th>Credit_History</th>\n",
       "      <th>0.0</th>\n",
       "      <th>1.0</th>\n",
       "    </tr>\n",
       "    <tr>\n",
       "      <th>Loan_Status</th>\n",
       "      <th></th>\n",
       "      <th></th>\n",
       "    </tr>\n",
       "  </thead>\n",
       "  <tbody>\n",
       "    <tr>\n",
       "      <th>N</th>\n",
       "      <td>0.145390</td>\n",
       "      <td>0.171986</td>\n",
       "    </tr>\n",
       "    <tr>\n",
       "      <th>Y</th>\n",
       "      <td>0.012411</td>\n",
       "      <td>0.670213</td>\n",
       "    </tr>\n",
       "  </tbody>\n",
       "</table>\n",
       "</div>"
      ],
      "text/plain": [
       "Credit_History       0.0       1.0\n",
       "Loan_Status                       \n",
       "N               0.145390  0.171986\n",
       "Y               0.012411  0.670213"
      ]
     },
     "execution_count": 30,
     "metadata": {},
     "output_type": "execute_result"
    }
   ],
   "source": [
    "pd.crosstab(loanDf.Loan_Status,loanDf.Credit_History, normalize=True)"
   ]
  },
  {
   "cell_type": "markdown",
   "metadata": {
    "collapsed": true
   },
   "source": [
    "## 67 % of customers take loan and have credit history"
   ]
  },
  {
   "cell_type": "code",
   "execution_count": 34,
   "metadata": {},
   "outputs": [
    {
     "data": {
      "text/html": [
       "<div>\n",
       "<style>\n",
       "    .dataframe thead tr:only-child th {\n",
       "        text-align: right;\n",
       "    }\n",
       "\n",
       "    .dataframe thead th {\n",
       "        text-align: left;\n",
       "    }\n",
       "\n",
       "    .dataframe tbody tr th {\n",
       "        vertical-align: top;\n",
       "    }\n",
       "</style>\n",
       "<table border=\"1\" class=\"dataframe\">\n",
       "  <thead>\n",
       "    <tr style=\"text-align: right;\">\n",
       "      <th>Credit_History</th>\n",
       "      <th>0.0</th>\n",
       "      <th>1.0</th>\n",
       "    </tr>\n",
       "    <tr>\n",
       "      <th>Loan_Status</th>\n",
       "      <th></th>\n",
       "      <th></th>\n",
       "    </tr>\n",
       "  </thead>\n",
       "  <tbody>\n",
       "    <tr>\n",
       "      <th>N</th>\n",
       "      <td>0.921348</td>\n",
       "      <td>0.204211</td>\n",
       "    </tr>\n",
       "    <tr>\n",
       "      <th>Y</th>\n",
       "      <td>0.078652</td>\n",
       "      <td>0.795789</td>\n",
       "    </tr>\n",
       "  </tbody>\n",
       "</table>\n",
       "</div>"
      ],
      "text/plain": [
       "Credit_History       0.0       1.0\n",
       "Loan_Status                       \n",
       "N               0.921348  0.204211\n",
       "Y               0.078652  0.795789"
      ]
     },
     "execution_count": 34,
     "metadata": {},
     "output_type": "execute_result"
    }
   ],
   "source": [
    "pd.crosstab(loanDf.Loan_Status,loanDf.Credit_History, normalize='columns')"
   ]
  },
  {
   "cell_type": "markdown",
   "metadata": {},
   "source": [
    "### 80 % of customers that have credit history take loan, Significant*"
   ]
  },
  {
   "cell_type": "code",
   "execution_count": 35,
   "metadata": {},
   "outputs": [
    {
     "data": {
      "text/plain": [
       "<matplotlib.axes._subplots.AxesSubplot at 0x28ab895a668>"
      ]
     },
     "execution_count": 35,
     "metadata": {},
     "output_type": "execute_result"
    },
    {
     "data": {
      "image/png": "[encoded data removed]",
      "text/plain": [
       "<matplotlib.figure.Figure at 0x28ab895aa90>"
      ]
     },
     "metadata": {},
     "output_type": "display_data"
    }
   ],
   "source": [
    "pd.crosstab(index=loanDf[\"Credit_History\"], columns=loanDf[\"Loan_Status\"]).plot(kind=\"bar\",figsize=(8,8),stacked=True)"
   ]
  },
  {
   "cell_type": "code",
   "execution_count": 40,
   "metadata": {},
   "outputs": [
    {
     "data": {
      "text/plain": [
       "<matplotlib.axes._subplots.AxesSubplot at 0x28ab8961dd8>"
      ]
     },
     "execution_count": 40,
     "metadata": {},
     "output_type": "execute_result"
    },
    {
     "data": {
      "image/png": "[encoded data removed]",
      "text/plain": [
       "<matplotlib.figure.Figure at 0x28ab6bb1da0>"
      ]
     },
     "metadata": {},
     "output_type": "display_data"
    }
   ],
   "source": [
    "pd.crosstab(loanDf.Gender,loanDf.Loan_Status).plot(kind='bar',stacked=True)"
   ]
  },
  {
   "cell_type": "code",
   "execution_count": 131,
   "metadata": {},
   "outputs": [
    {
     "data": {
      "text/html": [
       "<div>\n",
       "<style>\n",
       "    .dataframe thead tr:only-child th {\n",
       "        text-align: right;\n",
       "    }\n",
       "\n",
       "    .dataframe thead th {\n",
       "        text-align: left;\n",
       "    }\n",
       "\n",
       "    .dataframe tbody tr th {\n",
       "        vertical-align: top;\n",
       "    }\n",
       "</style>\n",
       "<table border=\"1\" class=\"dataframe\">\n",
       "  <thead>\n",
       "    <tr style=\"text-align: right;\">\n",
       "      <th>Loan_Status</th>\n",
       "      <th>N</th>\n",
       "      <th>Y</th>\n",
       "    </tr>\n",
       "    <tr>\n",
       "      <th>Gender</th>\n",
       "      <th></th>\n",
       "      <th></th>\n",
       "    </tr>\n",
       "  </thead>\n",
       "  <tbody>\n",
       "    <tr>\n",
       "      <th>Female</th>\n",
       "      <td>0.330357</td>\n",
       "      <td>0.669643</td>\n",
       "    </tr>\n",
       "    <tr>\n",
       "      <th>Male</th>\n",
       "      <td>0.306748</td>\n",
       "      <td>0.693252</td>\n",
       "    </tr>\n",
       "  </tbody>\n",
       "</table>\n",
       "</div>"
      ],
      "text/plain": [
       "Loan_Status         N         Y\n",
       "Gender                         \n",
       "Female       0.330357  0.669643\n",
       "Male         0.306748  0.693252"
      ]
     },
     "execution_count": 131,
     "metadata": {},
     "output_type": "execute_result"
    }
   ],
   "source": [
    "pd.crosstab(loanDf.Gender,loanDf.Loan_Status,normalize='index')"
   ]
  },
  {
   "cell_type": "code",
   "execution_count": 233,
   "metadata": {},
   "outputs": [
    {
     "data": {
      "text/plain": [
       "Male      489\n",
       "Female    112\n",
       "Name: Gender, dtype: int64"
      ]
     },
     "execution_count": 233,
     "metadata": {},
     "output_type": "execute_result"
    }
   ],
   "source": [
    "loanDf['Gender'].value_counts()"
   ]
  },
  {
   "cell_type": "markdown",
   "metadata": {},
   "source": [
    "### about 80 % of customers are male , males and females have slight chances rate to take a loan "
   ]
  },
  {
   "cell_type": "code",
   "execution_count": 42,
   "metadata": {},
   "outputs": [
    {
     "data": {
      "text/plain": [
       "<matplotlib.axes._subplots.AxesSubplot at 0x28ab8951908>"
      ]
     },
     "execution_count": 42,
     "metadata": {},
     "output_type": "execute_result"
    },
    {
     "data": {
      "image/png": "[encoded data removed]",
      "text/plain": [
       "<matplotlib.figure.Figure at 0x28ab89f2dd8>"
      ]
     },
     "metadata": {},
     "output_type": "display_data"
    }
   ],
   "source": [
    "pd.crosstab(loanDf.Married,loanDf.Loan_Status).plot(kind='bar',stacked=True)i"
   ]
  },
  {
   "cell_type": "code",
   "execution_count": 134,
   "metadata": {},
   "outputs": [
    {
     "data": {
      "text/html": [
       "<div>\n",
       "<style>\n",
       "    .dataframe thead tr:only-child th {\n",
       "        text-align: right;\n",
       "    }\n",
       "\n",
       "    .dataframe thead th {\n",
       "        text-align: left;\n",
       "    }\n",
       "\n",
       "    .dataframe tbody tr th {\n",
       "        vertical-align: top;\n",
       "    }\n",
       "</style>\n",
       "<table border=\"1\" class=\"dataframe\">\n",
       "  <thead>\n",
       "    <tr style=\"text-align: right;\">\n",
       "      <th>Loan_Status</th>\n",
       "      <th>N</th>\n",
       "      <th>Y</th>\n",
       "    </tr>\n",
       "    <tr>\n",
       "      <th>Married</th>\n",
       "      <th></th>\n",
       "      <th></th>\n",
       "    </tr>\n",
       "  </thead>\n",
       "  <tbody>\n",
       "    <tr>\n",
       "      <th>No</th>\n",
       "      <td>0.370892</td>\n",
       "      <td>0.629108</td>\n",
       "    </tr>\n",
       "    <tr>\n",
       "      <th>Yes</th>\n",
       "      <td>0.283920</td>\n",
       "      <td>0.716080</td>\n",
       "    </tr>\n",
       "  </tbody>\n",
       "</table>\n",
       "</div>"
      ],
      "text/plain": [
       "Loan_Status         N         Y\n",
       "Married                        \n",
       "No           0.370892  0.629108\n",
       "Yes          0.283920  0.716080"
      ]
     },
     "execution_count": 134,
     "metadata": {},
     "output_type": "execute_result"
    }
   ],
   "source": [
    "pd.crosstab(loanDf.Married,loanDf.Loan_Status,normalize='index')"
   ]
  },
  {
   "cell_type": "markdown",
   "metadata": {},
   "source": [
    "### 50 % of customer are Married , also to be married ,you have 10 % more chance to take loan. significant "
   ]
  },
  {
   "cell_type": "code",
   "execution_count": 48,
   "metadata": {},
   "outputs": [
    {
     "data": {
      "text/plain": [
       "<matplotlib.axes._subplots.AxesSubplot at 0x28ab8c96c50>"
      ]
     },
     "execution_count": 48,
     "metadata": {},
     "output_type": "execute_result"
    },
    {
     "data": {
      "image/png": "[encoded data removed]",
      "text/plain": [
       "<matplotlib.figure.Figure at 0x28ab8cef518>"
      ]
     },
     "metadata": {},
     "output_type": "display_data"
    }
   ],
   "source": [
    "pd.crosstab(loanDf.Dependents,loanDf.Loan_Status).plot(kind='bar',stacked=True)"
   ]
  },
  {
   "cell_type": "code",
   "execution_count": 135,
   "metadata": {},
   "outputs": [
    {
     "data": {
      "text/html": [
       "<div>\n",
       "<style>\n",
       "    .dataframe thead tr:only-child th {\n",
       "        text-align: right;\n",
       "    }\n",
       "\n",
       "    .dataframe thead th {\n",
       "        text-align: left;\n",
       "    }\n",
       "\n",
       "    .dataframe tbody tr th {\n",
       "        vertical-align: top;\n",
       "    }\n",
       "</style>\n",
       "<table border=\"1\" class=\"dataframe\">\n",
       "  <thead>\n",
       "    <tr style=\"text-align: right;\">\n",
       "      <th>Loan_Status</th>\n",
       "      <th>N</th>\n",
       "      <th>Y</th>\n",
       "    </tr>\n",
       "    <tr>\n",
       "      <th>Dependents</th>\n",
       "      <th></th>\n",
       "      <th></th>\n",
       "    </tr>\n",
       "  </thead>\n",
       "  <tbody>\n",
       "    <tr>\n",
       "      <th>0</th>\n",
       "      <td>0.310145</td>\n",
       "      <td>0.689855</td>\n",
       "    </tr>\n",
       "    <tr>\n",
       "      <th>1</th>\n",
       "      <td>0.352941</td>\n",
       "      <td>0.647059</td>\n",
       "    </tr>\n",
       "    <tr>\n",
       "      <th>2</th>\n",
       "      <td>0.247525</td>\n",
       "      <td>0.752475</td>\n",
       "    </tr>\n",
       "    <tr>\n",
       "      <th>3+</th>\n",
       "      <td>0.352941</td>\n",
       "      <td>0.647059</td>\n",
       "    </tr>\n",
       "  </tbody>\n",
       "</table>\n",
       "</div>"
      ],
      "text/plain": [
       "Loan_Status         N         Y\n",
       "Dependents                     \n",
       "0            0.310145  0.689855\n",
       "1            0.352941  0.647059\n",
       "2            0.247525  0.752475\n",
       "3+           0.352941  0.647059"
      ]
     },
     "execution_count": 135,
     "metadata": {},
     "output_type": "execute_result"
    }
   ],
   "source": [
    "pd.crosstab(loanDf.Dependents,loanDf.Loan_Status,normalize='index')"
   ]
  },
  {
   "cell_type": "markdown",
   "metadata": {},
   "source": [
    "### Bank does not give any speacial consideration(1 or 3+)dependents ,but does with other (0 or 2)\n",
    "### good  significance  -_-, may be it's related to customer job or age."
   ]
  },
  {
   "cell_type": "code",
   "execution_count": 236,
   "metadata": {},
   "outputs": [
    {
     "data": {
      "text/plain": [
       "<matplotlib.axes._subplots.AxesSubplot at 0x23e5b710208>"
      ]
     },
     "execution_count": 236,
     "metadata": {},
     "output_type": "execute_result"
    },
    {
     "data": {
      "image/png": "[encoded data removed]",
      "text/plain": [
       "<matplotlib.figure.Figure at 0x23e5b6836a0>"
      ]
     },
     "metadata": {},
     "output_type": "display_data"
    }
   ],
   "source": [
    "pd.crosstab(loanDf.Education,loanDf.Dependents).plot(kind='bar',stacked=True)"
   ]
  },
  {
   "cell_type": "code",
   "execution_count": 50,
   "metadata": {},
   "outputs": [
    {
     "data": {
      "text/plain": [
       "<matplotlib.axes._subplots.AxesSubplot at 0x28ab8d309b0>"
      ]
     },
     "execution_count": 50,
     "metadata": {},
     "output_type": "execute_result"
    },
    {
     "data": {
      "image/png": "[encoded data removed]",
      "text/plain": [
       "<matplotlib.figure.Figure at 0x28ab8c969b0>"
      ]
     },
     "metadata": {},
     "output_type": "display_data"
    }
   ],
   "source": [
    "pd.crosstab(loanDf.Education,loanDf.Loan_Status).plot(kind='bar',stacked=True)"
   ]
  },
  {
   "cell_type": "code",
   "execution_count": 136,
   "metadata": {},
   "outputs": [
    {
     "data": {
      "text/html": [
       "<div>\n",
       "<style>\n",
       "    .dataframe thead tr:only-child th {\n",
       "        text-align: right;\n",
       "    }\n",
       "\n",
       "    .dataframe thead th {\n",
       "        text-align: left;\n",
       "    }\n",
       "\n",
       "    .dataframe tbody tr th {\n",
       "        vertical-align: top;\n",
       "    }\n",
       "</style>\n",
       "<table border=\"1\" class=\"dataframe\">\n",
       "  <thead>\n",
       "    <tr style=\"text-align: right;\">\n",
       "      <th>Loan_Status</th>\n",
       "      <th>N</th>\n",
       "      <th>Y</th>\n",
       "    </tr>\n",
       "    <tr>\n",
       "      <th>Education</th>\n",
       "      <th></th>\n",
       "      <th></th>\n",
       "    </tr>\n",
       "  </thead>\n",
       "  <tbody>\n",
       "    <tr>\n",
       "      <th>Graduate</th>\n",
       "      <td>0.291667</td>\n",
       "      <td>0.708333</td>\n",
       "    </tr>\n",
       "    <tr>\n",
       "      <th>Not Graduate</th>\n",
       "      <td>0.388060</td>\n",
       "      <td>0.611940</td>\n",
       "    </tr>\n",
       "  </tbody>\n",
       "</table>\n",
       "</div>"
      ],
      "text/plain": [
       "Loan_Status          N         Y\n",
       "Education                       \n",
       "Graduate      0.291667  0.708333\n",
       "Not Graduate  0.388060  0.611940"
      ]
     },
     "execution_count": 136,
     "metadata": {},
     "output_type": "execute_result"
    }
   ],
   "source": [
    "pd.crosstab(loanDf.Education,loanDf.Loan_Status,normalize='index')"
   ]
  },
  {
   "cell_type": "markdown",
   "metadata": {},
   "source": [
    "#### if client is graduate ,it has 10 % more than not gratudate to take loan , so it's significant"
   ]
  },
  {
   "cell_type": "code",
   "execution_count": 51,
   "metadata": {},
   "outputs": [
    {
     "data": {
      "text/plain": [
       "<matplotlib.axes._subplots.AxesSubplot at 0x28ab8d860f0>"
      ]
     },
     "execution_count": 51,
     "metadata": {},
     "output_type": "execute_result"
    },
    {
     "data": {
      "image/png": "[encoded data removed]",
      "text/plain": [
       "<matplotlib.figure.Figure at 0x28ab8cc5390>"
      ]
     },
     "metadata": {},
     "output_type": "display_data"
    }
   ],
   "source": [
    "pd.crosstab(loanDf.Self_Employed,loanDf.Loan_Status).plot(kind='bar',stacked=True)"
   ]
  },
  {
   "cell_type": "code",
   "execution_count": 138,
   "metadata": {},
   "outputs": [
    {
     "data": {
      "text/html": [
       "<div>\n",
       "<style>\n",
       "    .dataframe thead tr:only-child th {\n",
       "        text-align: right;\n",
       "    }\n",
       "\n",
       "    .dataframe thead th {\n",
       "        text-align: left;\n",
       "    }\n",
       "\n",
       "    .dataframe tbody tr th {\n",
       "        vertical-align: top;\n",
       "    }\n",
       "</style>\n",
       "<table border=\"1\" class=\"dataframe\">\n",
       "  <thead>\n",
       "    <tr style=\"text-align: right;\">\n",
       "      <th>Loan_Status</th>\n",
       "      <th>N</th>\n",
       "      <th>Y</th>\n",
       "    </tr>\n",
       "    <tr>\n",
       "      <th>Self_Employed</th>\n",
       "      <th></th>\n",
       "      <th></th>\n",
       "    </tr>\n",
       "  </thead>\n",
       "  <tbody>\n",
       "    <tr>\n",
       "      <th>No</th>\n",
       "      <td>0.314000</td>\n",
       "      <td>0.686000</td>\n",
       "    </tr>\n",
       "    <tr>\n",
       "      <th>Yes</th>\n",
       "      <td>0.317073</td>\n",
       "      <td>0.682927</td>\n",
       "    </tr>\n",
       "  </tbody>\n",
       "</table>\n",
       "</div>"
      ],
      "text/plain": [
       "Loan_Status           N         Y\n",
       "Self_Employed                    \n",
       "No             0.314000  0.686000\n",
       "Yes            0.317073  0.682927"
      ]
     },
     "execution_count": 138,
     "metadata": {},
     "output_type": "execute_result"
    }
   ],
   "source": [
    "pd.crosstab(loanDf.Self_Employed,loanDf.Loan_Status,normalize='index')"
   ]
  },
  {
   "cell_type": "markdown",
   "metadata": {},
   "source": [
    "#### Same chance to take loan for employed or not , NOT significant :("
   ]
  },
  {
   "cell_type": "code",
   "execution_count": 52,
   "metadata": {},
   "outputs": [
    {
     "data": {
      "text/plain": [
       "<matplotlib.axes._subplots.AxesSubplot at 0x28ab8dfa630>"
      ]
     },
     "execution_count": 52,
     "metadata": {},
     "output_type": "execute_result"
    },
    {
     "data": {
      "image/png": "[encoded data removed]",
      "text/plain": [
       "<matplotlib.figure.Figure at 0x28ab8e0a7b8>"
      ]
     },
     "metadata": {},
     "output_type": "display_data"
    }
   ],
   "source": [
    "pd.crosstab(loanDf.Property_Area,loanDf.Loan_Status).plot(kind='bar',stacked=True)"
   ]
  },
  {
   "cell_type": "code",
   "execution_count": 58,
   "metadata": {},
   "outputs": [
    {
     "data": {
      "text/html": [
       "<div>\n",
       "<style>\n",
       "    .dataframe thead tr:only-child th {\n",
       "        text-align: right;\n",
       "    }\n",
       "\n",
       "    .dataframe thead th {\n",
       "        text-align: left;\n",
       "    }\n",
       "\n",
       "    .dataframe tbody tr th {\n",
       "        vertical-align: top;\n",
       "    }\n",
       "</style>\n",
       "<table border=\"1\" class=\"dataframe\">\n",
       "  <thead>\n",
       "    <tr style=\"text-align: right;\">\n",
       "      <th>Property_Area</th>\n",
       "      <th>Rural</th>\n",
       "      <th>Semiurban</th>\n",
       "      <th>Urban</th>\n",
       "    </tr>\n",
       "    <tr>\n",
       "      <th>Loan_Status</th>\n",
       "      <th></th>\n",
       "      <th></th>\n",
       "      <th></th>\n",
       "    </tr>\n",
       "  </thead>\n",
       "  <tbody>\n",
       "    <tr>\n",
       "      <th>N</th>\n",
       "      <td>0.385475</td>\n",
       "      <td>0.23176</td>\n",
       "      <td>0.341584</td>\n",
       "    </tr>\n",
       "    <tr>\n",
       "      <th>Y</th>\n",
       "      <td>0.614525</td>\n",
       "      <td>0.76824</td>\n",
       "      <td>0.658416</td>\n",
       "    </tr>\n",
       "  </tbody>\n",
       "</table>\n",
       "</div>"
      ],
      "text/plain": [
       "Property_Area     Rural  Semiurban     Urban\n",
       "Loan_Status                                 \n",
       "N              0.385475    0.23176  0.341584\n",
       "Y              0.614525    0.76824  0.658416"
      ]
     },
     "execution_count": 58,
     "metadata": {},
     "output_type": "execute_result"
    }
   ],
   "source": [
    "pd.crosstab(loanDf.Loan_Status,loanDf.Property_Area,normalize='columns')"
   ]
  },
  {
   "cell_type": "markdown",
   "metadata": {},
   "source": [
    "### different Areas have slight changes on loan , it might be significant."
   ]
  },
  {
   "cell_type": "code",
   "execution_count": 64,
   "metadata": {},
   "outputs": [
    {
     "data": {
      "image/png": "[encoded data removed]",
      "text/plain": [
       "<matplotlib.figure.Figure at 0x28abba6b2b0>"
      ]
     },
     "metadata": {},
     "output_type": "display_data"
    }
   ],
   "source": [
    "sns.heatmap(loanDf.corr(), annot=True, fmt=\".2f\")\n",
    "plt.show()\n"
   ]
  },
  {
   "cell_type": "code",
   "execution_count": 82,
   "metadata": {},
   "outputs": [
    {
     "data": {
      "text/plain": [
       "<seaborn.axisgrid.PairGrid at 0x28abb94eeb8>"
      ]
     },
     "execution_count": 82,
     "metadata": {},
     "output_type": "execute_result"
    },
    {
     "data": {
      "image/png": "[encoded data removed]",
      "text/plain": [
       "<matplotlib.figure.Figure at 0x28abab84e80>"
      ]
     },
     "metadata": {},
     "output_type": "display_data"
    }
   ],
   "source": [
    "sns.pairplot(loanDf[['ApplicantIncome','CoapplicantIncome','LoanAmount','Loan_Amount_Term']].dropna(),kind=\"reg\")"
   ]
  },
  {
   "cell_type": "code",
   "execution_count": 86,
   "metadata": {},
   "outputs": [
    {
     "data": {
      "image/png": "[encoded data removed]",
      "text/plain": [
       "<matplotlib.figure.Figure at 0x28ac1346f28>"
      ]
     },
     "metadata": {},
     "output_type": "display_data"
    }
   ],
   "source": [
    "sns.pairplot(loanDf[['ApplicantIncome','CoapplicantIncome','LoanAmount','Loan_Amount_Term','Loan_Status']].dropna(), kind=\"scatter\", hue=\"Loan_Status\", plot_kws=dict(s=80, edgecolor=\"white\", linewidth=2.5))\n",
    "plt.show()"
   ]
  },
  {
   "cell_type": "markdown",
   "metadata": {},
   "source": [
    "#### 1- Applicant income and coapplicant income looks have some similarities, so we could add both together as total income\n",
    "#### 2- we could figure out classification boundries between variables, as ex: loan(Y):income >0 and <=2500 ,also loan amount >0 and #### <450\n",
    "#### 3- ^_^ !? all numarical variables histograms(alone) do not show any groups separations between loan status(y,n)        "
   ]
  },
  {
   "cell_type": "code",
   "execution_count": 190,
   "metadata": {},
   "outputs": [
    {
     "name": "stderr",
     "output_type": "stream",
     "text": [
      "C:\\Users\\Essam\\Anaconda3\\lib\\site-packages\\numpy\\core\\fromnumeric.py:52: FutureWarning: reshape is deprecated and will raise in a subsequent release. Please use .values.reshape(...) instead\n",
      "  return getattr(obj, method)(*args, **kwds)\n"
     ]
    },
    {
     "data": {
      "text/plain": [
       "<matplotlib.axes._subplots.AxesSubplot at 0x28ac085ddd8>"
      ]
     },
     "execution_count": 190,
     "metadata": {},
     "output_type": "execute_result"
    },
    {
     "data": {
      "image/png": "[encoded data removed]",
      "text/plain": [
       "<matplotlib.figure.Figure at 0x28ac08aac50>"
      ]
     },
     "metadata": {},
     "output_type": "display_data"
    }
   ],
   "source": [
    "loanDf.boxplot(column='total_income', by='Loan_Status',showfliers=False)"
   ]
  },
  {
   "cell_type": "code",
   "execution_count": 191,
   "metadata": {},
   "outputs": [
    {
     "data": {
      "text/plain": [
       "Index(['Loan_ID', 'Gender', 'Married', 'Dependents', 'Education',\n",
       "       'Self_Employed', 'ApplicantIncome', 'CoapplicantIncome', 'LoanAmount',\n",
       "       'Loan_Amount_Term', 'Credit_History', 'Property_Area', 'Loan_Status',\n",
       "       'total_income'],\n",
       "      dtype='object')"
      ]
     },
     "execution_count": 191,
     "metadata": {},
     "output_type": "execute_result"
    }
   ],
   "source": [
    "loanDf.columns"
   ]
  },
  {
   "cell_type": "code",
   "execution_count": 193,
   "metadata": {},
   "outputs": [
    {
     "name": "stderr",
     "output_type": "stream",
     "text": [
      "C:\\Users\\Essam\\Anaconda3\\lib\\site-packages\\numpy\\core\\fromnumeric.py:52: FutureWarning: reshape is deprecated and will raise in a subsequent release. Please use .values.reshape(...) instead\n",
      "  return getattr(obj, method)(*args, **kwds)\n"
     ]
    },
    {
     "data": {
      "text/plain": [
       "<matplotlib.axes._subplots.AxesSubplot at 0x28ac08a3278>"
      ]
     },
     "execution_count": 193,
     "metadata": {},
     "output_type": "execute_result"
    },
    {
     "data": {
      "image/png": "[encoded data removed]",
      "text/plain": [
       "<matplotlib.figure.Figure at 0x28ac09372e8>"
      ]
     },
     "metadata": {},
     "output_type": "display_data"
    }
   ],
   "source": [
    "loanDf.boxplot(column='LoanAmount', by='Loan_Status',showfliers=False)"
   ]
  },
  {
   "cell_type": "code",
   "execution_count": 195,
   "metadata": {},
   "outputs": [
    {
     "name": "stderr",
     "output_type": "stream",
     "text": [
      "C:\\Users\\Essam\\Anaconda3\\lib\\site-packages\\numpy\\core\\fromnumeric.py:52: FutureWarning: reshape is deprecated and will raise in a subsequent release. Please use .values.reshape(...) instead\n",
      "  return getattr(obj, method)(*args, **kwds)\n"
     ]
    },
    {
     "data": {
      "text/plain": [
       "<matplotlib.axes._subplots.AxesSubplot at 0x28ac10a8320>"
      ]
     },
     "execution_count": 195,
     "metadata": {},
     "output_type": "execute_result"
    },
    {
     "data": {
      "image/png": "[encoded data removed]",
      "text/plain": [
       "<matplotlib.figure.Figure at 0x28ac0a1ac50>"
      ]
     },
     "metadata": {},
     "output_type": "display_data"
    }
   ],
   "source": [
    "loanDf.boxplot(column='Loan_Amount_Term', by='Loan_Status')"
   ]
  },
  {
   "cell_type": "code",
   "execution_count": null,
   "metadata": {
    "collapsed": true
   },
   "outputs": [],
   "source": [
    "loanDf.boxplot(column='total_income', by='Loan_Status',showfliers=False)"
   ]
  },
  {
   "cell_type": "markdown",
   "metadata": {},
   "source": [
    "# Modeling"
   ]
  },
  {
   "cell_type": "markdown",
   "metadata": {},
   "source": [
    "### Recursive Feature Elimination"
   ]
  },
  {
   "cell_type": "markdown",
   "metadata": {},
   "source": [
    "#### Triel A: Logistic Regression, 'Simplicity First ^_^'\n",
    "#### Dummy Vaiables"
   ]
  },
  {
   "cell_type": "code",
   "execution_count": 21,
   "metadata": {
    "collapsed": true
   },
   "outputs": [],
   "source": [
    "data=loanDf\n",
    "cat_vars=['Dependents','Gender','Married','Education','Self_Employed','Property_Area','Credit_History']\n",
    "for var in cat_vars:\n",
    "    cat_list='var'+'_'+var\n",
    "    cat_list = pd.get_dummies(data[var], prefix=var)\n",
    "    data1=data.join(cat_list)\n",
    "    data=data1\n",
    "data_vars=data.columns.values.tolist()\n",
    "to_keep=[i for i in data_vars if i not in cat_vars]"
   ]
  },
  {
   "cell_type": "code",
   "execution_count": 22,
   "metadata": {
    "collapsed": true
   },
   "outputs": [],
   "source": [
    "from sklearn.feature_selection import RFE\n",
    "from sklearn.linear_model import LogisticRegression\n",
    "logreg = LogisticRegression()\n",
    "rfe = RFE(logreg,5)\n",
    "\n",
    "data=data[to_keep].dropna()\n",
    "data_X=data.drop(['Loan_Status','Loan_ID'],axis=1)\n",
    "data_y=data['Loan_Status']"
   ]
  },
  {
   "cell_type": "code",
   "execution_count": 24,
   "metadata": {},
   "outputs": [
    {
     "data": {
      "text/plain": [
       "ApplicantIncome            0\n",
       "CoapplicantIncome          0\n",
       "LoanAmount                 0\n",
       "Loan_Amount_Term           0\n",
       "Dependents_0               0\n",
       "Dependents_1               0\n",
       "Dependents_2               0\n",
       "Dependents_3+              0\n",
       "Gender_Female              0\n",
       "Gender_Male                0\n",
       "Married_No                 0\n",
       "Married_Yes                0\n",
       "Education_Graduate         0\n",
       "Education_Not Graduate     0\n",
       "Self_Employed_No           0\n",
       "Self_Employed_Yes          0\n",
       "Property_Area_Rural        0\n",
       "Property_Area_Semiurban    0\n",
       "Property_Area_Urban        0\n",
       "Credit_History_0.0         0\n",
       "Credit_History_1.0         0\n",
       "dtype: int64"
      ]
     },
     "execution_count": 24,
     "metadata": {},
     "output_type": "execute_result"
    }
   ],
   "source": [
    "data_X.isnull().sum()"
   ]
  },
  {
   "cell_type": "code",
   "execution_count": 114,
   "metadata": {},
   "outputs": [
    {
     "data": {
      "text/plain": [
       "Index(['ApplicantIncome', 'CoapplicantIncome', 'LoanAmount',\n",
       "       'Loan_Amount_Term', 'Dependents_0', 'Dependents_1', 'Dependents_2',\n",
       "       'Dependents_3+', 'Gender_Female', 'Gender_Male', 'Married_No',\n",
       "       'Married_Yes', 'Education_Graduate', 'Education_Not Graduate',\n",
       "       'Self_Employed_No', 'Self_Employed_Yes', 'Property_Area_Rural',\n",
       "       'Property_Area_Semiurban', 'Property_Area_Urban', 'Credit_History_0.0',\n",
       "       'Credit_History_1.0'],\n",
       "      dtype='object')"
      ]
     },
     "execution_count": 114,
     "metadata": {},
     "output_type": "execute_result"
    }
   ],
   "source": [
    "data_X.columns\n",
    "'ApplicantIncome', 'CoapplicantIncome', 'LoanAmount',\n",
    "       'Loan_Amount_Term', 'Dependents_0','Dependents_3+','Dependents_2', 'Gender_Female', 'Gender_Male', 'Married_No','Education_Graduate', 'Education_Not Graduate',\n",
    "       'Self_Employed_No', 'Self_Employed_Yes','Property_Area_Urban'"
   ]
  },
  {
   "cell_type": "code",
   "execution_count": 113,
   "metadata": {},
   "outputs": [
    {
     "name": "stdout",
     "output_type": "stream",
     "text": [
      "[False False False False False  True False False False False False  True\n",
      " False False False False False  True False  True  True]\n",
      "[17 16 14 15  9  1  3  8  7  6  5  1  4 12 10 13  2  1 11  1  1]\n"
     ]
    }
   ],
   "source": [
    "rfe = rfe.fit(data_X, data_y.values.ravel())\n",
    "print(rfe.support_)\n",
    "print(rfe.ranking_)"
   ]
  },
  {
   "cell_type": "markdown",
   "metadata": {},
   "source": [
    "### Logistc Regression Iter(1)"
   ]
  },
  {
   "cell_type": "code",
   "execution_count": 116,
   "metadata": {},
   "outputs": [
    {
     "name": "stderr",
     "output_type": "stream",
     "text": [
      "C:\\Users\\Essam\\Anaconda3\\lib\\site-packages\\sklearn\\cross_validation.py:41: DeprecationWarning: This module was deprecated in version 0.18 in favor of the model_selection module into which all the refactored classes and functions are moved. Also note that the interface of the new CV iterators are different from that of this module. This module will be removed in 0.20.\n",
      "  \"This module will be removed in 0.20.\", DeprecationWarning)\n"
     ]
    },
    {
     "data": {
      "text/plain": [
       "LogisticRegression(C=1.0, class_weight=None, dual=False, fit_intercept=True,\n",
       "          intercept_scaling=1, max_iter=100, multi_class='ovr', n_jobs=1,\n",
       "          penalty='l2', random_state=None, solver='liblinear', tol=0.0001,\n",
       "          verbose=0, warm_start=False)"
      ]
     },
     "execution_count": 116,
     "metadata": {},
     "output_type": "execute_result"
    }
   ],
   "source": [
    "from sklearn.linear_model import LogisticRegression\n",
    "from sklearn.cross_validation import train_test_split\n",
    "from sklearn import metrics\n",
    "X_train, X_test, y_train, y_test = train_test_split(data_X, data_y, test_size=0.3, random_state=0)\n",
    "logreg = LogisticRegression()\n",
    "logreg.fit(X_train, y_train)"
   ]
  },
  {
   "cell_type": "code",
   "execution_count": 117,
   "metadata": {},
   "outputs": [
    {
     "name": "stdout",
     "output_type": "stream",
     "text": [
      "Accuracy of logistic regression classifier on test set: 0.83\n"
     ]
    }
   ],
   "source": [
    "y_pred = logreg.predict(X_test)\n",
    "print('Accuracy of logistic regression classifier on test set: {:.2f}'.format(logreg.score(X_test, y_test)))"
   ]
  },
  {
   "cell_type": "code",
   "execution_count": 120,
   "metadata": {},
   "outputs": [
    {
     "name": "stdout",
     "output_type": "stream",
     "text": [
      "[[ 27  23]\n",
      " [  6 118]]\n",
      "             precision    recall  f1-score   support\n",
      "\n",
      "          N       0.82      0.54      0.65        50\n",
      "          Y       0.84      0.95      0.89       124\n",
      "\n",
      "avg / total       0.83      0.83      0.82       174\n",
      "\n"
     ]
    }
   ],
   "source": [
    "from sklearn.metrics import confusion_matrix,classification_report\n",
    "confusion_matrix = confusion_matrix(y_test, y_pred)\n",
    "print(confusion_matrix)\n",
    "print(classification_report(y_test, y_pred)) "
   ]
  },
  {
   "cell_type": "markdown",
   "metadata": {},
   "source": [
    "### Regression Iteration 2"
   ]
  },
  {
   "cell_type": "code",
   "execution_count": 145,
   "metadata": {
    "collapsed": true
   },
   "outputs": [],
   "source": [
    "data_X2=data_X.drop(['Self_Employed_No','Self_Employed_Yes','Gender_Female','Gender_Male'],axis=1)"
   ]
  },
  {
   "cell_type": "code",
   "execution_count": 149,
   "metadata": {},
   "outputs": [
    {
     "data": {
      "text/plain": [
       "Index(['ApplicantIncome', 'CoapplicantIncome', 'LoanAmount',\n",
       "       'Loan_Amount_Term', 'Dependents_0', 'Dependents_1', 'Dependents_2',\n",
       "       'Dependents_3+', 'Married_No', 'Married_Yes', 'Education_Graduate',\n",
       "       'Education_Not Graduate', 'Property_Area_Rural',\n",
       "       'Property_Area_Semiurban', 'Property_Area_Urban', 'Credit_History_0.0',\n",
       "       'Credit_History_1.0'],\n",
       "      dtype='object')"
      ]
     },
     "execution_count": 149,
     "metadata": {},
     "output_type": "execute_result"
    }
   ],
   "source": [
    "data_X2.columns"
   ]
  },
  {
   "cell_type": "code",
   "execution_count": 150,
   "metadata": {},
   "outputs": [
    {
     "name": "stdout",
     "output_type": "stream",
     "text": [
      "Accuracy of logistic regression classifier on test set: 0.83\n"
     ]
    }
   ],
   "source": [
    "X_train, X_test, y_train, y_test = train_test_split(data_X2, data_y, test_size=0.3, random_state=0)\n",
    "logreg = LogisticRegression()\n",
    "logreg.fit(X_train, y_train)\n",
    "y_pred = logreg.predict(X_test)\n",
    "print('Accuracy of logistic regression classifier on test set: {:.2f}'.format(logreg.score(X_test, y_test)))"
   ]
  },
  {
   "cell_type": "code",
   "execution_count": 152,
   "metadata": {},
   "outputs": [
    {
     "name": "stdout",
     "output_type": "stream",
     "text": [
      "[[ 28  22]\n",
      " [  7 117]]\n",
      "             precision    recall  f1-score   support\n",
      "\n",
      "          N       0.80      0.56      0.66        50\n",
      "          Y       0.84      0.94      0.89       124\n",
      "\n",
      "avg / total       0.83      0.83      0.82       174\n",
      "\n"
     ]
    }
   ],
   "source": [
    "from sklearn.metrics import confusion_matrix,classification_report\n",
    "confusion_matrix = confusion_matrix(y_test, y_pred)\n",
    "print(confusion_matrix)\n",
    "print(classification_report(y_test, y_pred)) "
   ]
  },
  {
   "cell_type": "markdown",
   "metadata": {},
   "source": [
    "#### it looks no change :(\n",
    "#### so we forget to deal with corr variables(income,loan amount)"
   ]
  },
  {
   "cell_type": "code",
   "execution_count": 154,
   "metadata": {
    "collapsed": true
   },
   "outputs": [],
   "source": [
    "data_X2['total_income']=data_X2['ApplicantIncome']+data_X2['CoapplicantIncome']"
   ]
  },
  {
   "cell_type": "code",
   "execution_count": 165,
   "metadata": {},
   "outputs": [
    {
     "data": {
      "text/plain": [
       "Index(['Loan_ID', 'Gender', 'Married', 'Dependents', 'Education',\n",
       "       'Self_Employed', 'ApplicantIncome', 'CoapplicantIncome', 'LoanAmount',\n",
       "       'Loan_Amount_Term', 'Credit_History', 'Property_Area', 'Loan_Status',\n",
       "       'total_income'],\n",
       "      dtype='object')"
      ]
     },
     "execution_count": 165,
     "metadata": {},
     "output_type": "execute_result"
    }
   ],
   "source": [
    "loanDf.columns"
   ]
  },
  {
   "cell_type": "code",
   "execution_count": 174,
   "metadata": {},
   "outputs": [
    {
     "data": {
      "image/png": "[encoded data removed]",
      "text/plain": [
       "<matplotlib.figure.Figure at 0x28abf1f7b00>"
      ]
     },
     "metadata": {},
     "output_type": "display_data"
    }
   ],
   "source": [
    "loanDf['total_income']=loanDf['ApplicantIncome']+loanDf['CoapplicantIncome']\n",
    "take_loan=list(loanDf[loanDf['Loan_Status']=='Y']['total_income'])\n",
    "not_take_loan=list(loanDf[loanDf['Loan_Status']=='Y']['total_income'])\n",
    "colors = ['#009E73', '#D55E00']\n",
    "plt.hist([take_loan,not_take_loan], 30,stacked=True,color=colors,normed=True)\n",
    "plt.legend()"
   ]
  },
  {
   "cell_type": "markdown",
   "metadata": {},
   "source": [
    "#### No grops on loan status on total income"
   ]
  },
  {
   "cell_type": "code",
   "execution_count": 179,
   "metadata": {},
   "outputs": [
    {
     "name": "stdout",
     "output_type": "stream",
     "text": [
      "Accuracy of logistic regression classifier on test set: 0.84\n"
     ]
    }
   ],
   "source": [
    "X_train, X_test, y_train, y_test = train_test_split(data_X2.drop(['ApplicantIncome','CoapplicantIncome'],axis=1), data_y, test_size=0.3, random_state=0)\n",
    "logreg = LogisticRegression()\n",
    "logreg.fit(X_train, y_train)\n",
    "y_pred = logreg.predict(X_test)\n",
    "print('Accuracy of logistic regression classifier on test set: {:.2f}'.format(logreg.score(X_test, y_test)))"
   ]
  },
  {
   "cell_type": "code",
   "execution_count": 181,
   "metadata": {},
   "outputs": [
    {
     "data": {
      "text/plain": [
       "Index(['ApplicantIncome', 'CoapplicantIncome', 'LoanAmount',\n",
       "       'Loan_Amount_Term', 'Dependents_0', 'Dependents_1', 'Dependents_2',\n",
       "       'Dependents_3+', 'Married_No', 'Married_Yes', 'Education_Graduate',\n",
       "       'Education_Not Graduate', 'Property_Area_Rural',\n",
       "       'Property_Area_Semiurban', 'Property_Area_Urban', 'Credit_History_0.0',\n",
       "       'Credit_History_1.0', 'total_income'],\n",
       "      dtype='object')"
      ]
     },
     "execution_count": 181,
     "metadata": {},
     "output_type": "execute_result"
    }
   ],
   "source": [
    "data_X2.columns"
   ]
  },
  {
   "cell_type": "code",
   "execution_count": 180,
   "metadata": {},
   "outputs": [
    {
     "name": "stdout",
     "output_type": "stream",
     "text": [
      "[[ 28  22]\n",
      " [  6 118]]\n",
      "             precision    recall  f1-score   support\n",
      "\n",
      "          N       0.82      0.56      0.67        50\n",
      "          Y       0.84      0.95      0.89       124\n",
      "\n",
      "avg / total       0.84      0.84      0.83       174\n",
      "\n"
     ]
    }
   ],
   "source": [
    "from sklearn.metrics import confusion_matrix,classification_report\n",
    "confusion_matrix = confusion_matrix(y_test, y_pred)\n",
    "print(confusion_matrix)\n",
    "print(classification_report(y_test, y_pred)) "
   ]
  },
  {
   "cell_type": "markdown",
   "metadata": {},
   "source": [
    "### Feature Selection"
   ]
  },
  {
   "cell_type": "markdown",
   "metadata": {},
   "source": [
    "#### Chi-Squared"
   ]
  },
  {
   "cell_type": "code",
   "execution_count": 11,
   "metadata": {},
   "outputs": [
    {
     "data": {
      "text/plain": [
       "Index(['ApplicantIncome', 'CoapplicantIncome', 'LoanAmount',\n",
       "       'Loan_Amount_Term', 'Dependents_0', 'Dependents_1', 'Dependents_2',\n",
       "       'Dependents_3+', 'Gender_Female', 'Gender_Male', 'Married_No',\n",
       "       'Married_Yes', 'Education_Graduate', 'Education_Not Graduate',\n",
       "       'Self_Employed_No', 'Self_Employed_Yes', 'Property_Area_Rural',\n",
       "       'Property_Area_Semiurban', 'Property_Area_Urban', 'Credit_History_0.0',\n",
       "       'Credit_History_1.0'],\n",
       "      dtype='object')"
      ]
     },
     "execution_count": 11,
     "metadata": {},
     "output_type": "execute_result"
    }
   ],
   "source": [
    "data_X.columns"
   ]
  },
  {
   "cell_type": "code",
   "execution_count": 12,
   "metadata": {},
   "outputs": [
    {
     "name": "stdout",
     "output_type": "stream",
     "text": [
      "[1.32185e+02 1.55095e+04 5.13178e+01 6.49125e+00 9.24868e-03 1.04757e+00\n",
      " 2.15132e+00 2.15349e-02 3.77546e-01 1.62708e-01 3.47545e+00 1.68169e+00\n",
      " 5.62274e-01 2.12363e+00 3.66680e-03 1.75055e-01 4.61559e+00 5.47284e+00\n",
      " 2.78779e-01 1.38624e+02 2.15503e+01]\n"
     ]
    }
   ],
   "source": [
    "from sklearn.feature_selection import SelectKBest\n",
    "from sklearn.feature_selection import chi2\n",
    "# Feature extraction\n",
    "test = SelectKBest(score_func=chi2, k=4)\n",
    "fit = test.fit(data_X,data_y)\n",
    "\n",
    "# Summarize scores\n",
    "np.set_printoptions(precision=3)\n",
    "print(fit.scores_)"
   ]
  },
  {
   "cell_type": "code",
   "execution_count": 36,
   "metadata": {
    "collapsed": true
   },
   "outputs": [],
   "source": [
    "testchi=data_X.drop(['ApplicantIncome', 'CoapplicantIncome', 'LoanAmount',\n",
    "       'Loan_Amount_Term', 'Dependents_0','Dependents_3+','Dependents_2', 'Gender_Female', 'Gender_Male', 'Married_No','Education_Graduate', 'Education_Not Graduate',\n",
    "       'Self_Employed_No', 'Self_Employed_Yes','Property_Area_Urban'],axis=1)"
   ]
  },
  {
   "cell_type": "code",
   "execution_count": 40,
   "metadata": {},
   "outputs": [
    {
     "data": {
      "text/plain": [
       "Index(['Dependents_1', 'Married_Yes', 'Property_Area_Rural',\n",
       "       'Property_Area_Semiurban', 'Credit_History_0.0', 'Credit_History_1.0'],\n",
       "      dtype='object')"
      ]
     },
     "execution_count": 40,
     "metadata": {},
     "output_type": "execute_result"
    }
   ],
   "source": [
    "testchi.columns"
   ]
  },
  {
   "cell_type": "code",
   "execution_count": 38,
   "metadata": {},
   "outputs": [
    {
     "name": "stdout",
     "output_type": "stream",
     "text": [
      "Accuracy of logistic regression classifier on test set: 0.84\n"
     ]
    }
   ],
   "source": [
    "from sklearn.linear_model import LogisticRegression\n",
    "from sklearn.cross_validation import train_test_split\n",
    "\n",
    "X_train, X_test, y_train, y_test = train_test_split(testchi, data_y, test_size=0.3, random_state=0)\n",
    "\n",
    "logreg = LogisticRegression()\n",
    "logreg.fit(X_train, y_train)\n",
    "y_pred = logreg.predict(X_test)\n",
    "print('Accuracy of logistic regression classifier on test set: {:.2f}'.format(logreg.score(X_test, y_test)))"
   ]
  },
  {
   "cell_type": "code",
   "execution_count": 39,
   "metadata": {},
   "outputs": [
    {
     "name": "stdout",
     "output_type": "stream",
     "text": [
      "[[ 28  22]\n",
      " [  5 119]]\n",
      "             precision    recall  f1-score   support\n",
      "\n",
      "          N       0.85      0.56      0.67        50\n",
      "          Y       0.84      0.96      0.90       124\n",
      "\n",
      "avg / total       0.85      0.84      0.83       174\n",
      "\n"
     ]
    }
   ],
   "source": [
    "from sklearn.metrics import confusion_matrix,classification_report\n",
    "confusion_matrix = confusion_matrix(y_test, y_pred)\n",
    "print(confusion_matrix)\n",
    "print(classification_report(y_test, y_pred)) "
   ]
  },
  {
   "cell_type": "markdown",
   "metadata": {},
   "source": [
    "### So we get our best by ch square and RFE\n",
    "### it's time for Decsion Tree"
   ]
  },
  {
   "cell_type": "code",
   "execution_count": 57,
   "metadata": {
    "collapsed": true
   },
   "outputs": [],
   "source": [
    "from sklearn.tree import DecisionTreeClassifier  \n",
    "X_train, X_test, y_train, y_test = train_test_split(testchi, data_y, test_size=0.3, random_state=0)\n",
    "Dtree = DecisionTreeClassifier(criterion = 'entropy').fit(X_train,y_train)"
   ]
  },
  {
   "cell_type": "code",
   "execution_count": 58,
   "metadata": {
    "collapsed": true
   },
   "outputs": [],
   "source": [
    "y_pred = Dtree.predict(X_test)"
   ]
  },
  {
   "cell_type": "code",
   "execution_count": 59,
   "metadata": {},
   "outputs": [
    {
     "name": "stdout",
     "output_type": "stream",
     "text": [
      "The prediction accuracy is:  83.33333333333334 %\n"
     ]
    }
   ],
   "source": [
    "print(\"The prediction accuracy is: \",Dtree.score(X_test,y_test)*100,\"%\")"
   ]
  },
  {
   "cell_type": "code",
   "execution_count": 60,
   "metadata": {},
   "outputs": [
    {
     "name": "stdout",
     "output_type": "stream",
     "text": [
      "[[ 27  23]\n",
      " [  6 118]]\n",
      "             precision    recall  f1-score   support\n",
      "\n",
      "          N       0.82      0.54      0.65        50\n",
      "          Y       0.84      0.95      0.89       124\n",
      "\n",
      "avg / total       0.83      0.83      0.82       174\n",
      "\n"
     ]
    }
   ],
   "source": [
    "from sklearn.metrics import classification_report, confusion_matrix  \n",
    "print(confusion_matrix(y_test, y_pred))  \n",
    "print(classification_report(y_test, y_pred))"
   ]
  },
  {
   "cell_type": "code",
   "execution_count": 63,
   "metadata": {
    "collapsed": true
   },
   "outputs": [],
   "source": [
    "import graphviz \n",
    "from sklearn import tree\n",
    "dot_data = tree.export_graphviz(Dtree, out_file=None, \n",
    "                      feature_names=testchi.columns,max_depth=4,  \n",
    "                      class_names=['0','1'],  \n",
    "                      filled=True, rounded=True,  \n",
    "                      special_characters=True)  \n",
    "graph = graphviz.Source(dot_data)"
   ]
  },
  {
   "cell_type": "code",
   "execution_count": 64,
   "metadata": {},
   "outputs": [
    {
     "data": {
      "image/svg+xml": [
       "<svg height=\"639pt\" viewBox=\"0.00 0.00 2179.50 639.00\" width=\"2180pt\" xmlns=\"http://www.w3.org/2000/svg\" xmlns:xlink=\"http://www.w3.org/1999/xlink\">\n",
       "<g class=\"graph\" id=\"graph0\" transform=\"scale(1 1) rotate(0) translate(4 635)\">\n",
       "<title>Tree</title>\n",
       "<polygon fill=\"white\" points=\"-4,4 -4,-635 2175.5,-635 2175.5,4 -4,4\" stroke=\"none\"/>\n",
       "<!-- 0 -->\n",
       "<g class=\"node\" id=\"node1\"><title>0</title>\n",
       "<path d=\"M1516.5,-631C1516.5,-631 1370.5,-631 1370.5,-631 1364.5,-631 1358.5,-625 1358.5,-619 1358.5,-619 1358.5,-560 1358.5,-560 1358.5,-554 1364.5,-548 1370.5,-548 1370.5,-548 1516.5,-548 1516.5,-548 1522.5,-548 1528.5,-554 1528.5,-560 1528.5,-560 1528.5,-619 1528.5,-619 1528.5,-625 1522.5,-631 1516.5,-631\" fill=\"#399de5\" fill-opacity=\"0.552941\" stroke=\"black\"/>\n",
       "<text font-family=\"Helvetica,sans-Serif\" font-size=\"14.00\" text-anchor=\"start\" x=\"1366.5\" y=\"-615.8\">Credit_History_0.0 ≤ 0.5</text>\n",
       "<text font-family=\"Helvetica,sans-Serif\" font-size=\"14.00\" text-anchor=\"start\" x=\"1393.5\" y=\"-600.8\">entropy = 0.892</text>\n",
       "<text font-family=\"Helvetica,sans-Serif\" font-size=\"14.00\" text-anchor=\"start\" x=\"1396\" y=\"-585.8\">samples = 404</text>\n",
       "<text font-family=\"Helvetica,sans-Serif\" font-size=\"14.00\" text-anchor=\"start\" x=\"1386.5\" y=\"-570.8\">value = [125, 279]</text>\n",
       "<text font-family=\"Helvetica,sans-Serif\" font-size=\"14.00\" text-anchor=\"start\" x=\"1414.5\" y=\"-555.8\">class = 1</text>\n",
       "</g>\n",
       "<!-- 1 -->\n",
       "<g class=\"node\" id=\"node2\"><title>1</title>\n",
       "<path d=\"M1205,-512C1205,-512 1008,-512 1008,-512 1002,-512 996,-506 996,-500 996,-500 996,-441 996,-441 996,-435 1002,-429 1008,-429 1008,-429 1205,-429 1205,-429 1211,-429 1217,-435 1217,-441 1217,-441 1217,-500 1217,-500 1217,-506 1211,-512 1205,-512\" fill=\"#399de5\" fill-opacity=\"0.709804\" stroke=\"black\"/>\n",
       "<text font-family=\"Helvetica,sans-Serif\" font-size=\"14.00\" text-anchor=\"start\" x=\"1004\" y=\"-496.8\">Property_Area_Semiurban ≤ 0.5</text>\n",
       "<text font-family=\"Helvetica,sans-Serif\" font-size=\"14.00\" text-anchor=\"start\" x=\"1056.5\" y=\"-481.8\">entropy = 0.769</text>\n",
       "<text font-family=\"Helvetica,sans-Serif\" font-size=\"14.00\" text-anchor=\"start\" x=\"1059\" y=\"-466.8\">samples = 356</text>\n",
       "<text font-family=\"Helvetica,sans-Serif\" font-size=\"14.00\" text-anchor=\"start\" x=\"1053.5\" y=\"-451.8\">value = [80, 276]</text>\n",
       "<text font-family=\"Helvetica,sans-Serif\" font-size=\"14.00\" text-anchor=\"start\" x=\"1077.5\" y=\"-436.8\">class = 1</text>\n",
       "</g>\n",
       "<!-- 0&#45;&gt;1 -->\n",
       "<g class=\"edge\" id=\"edge1\"><title>0-&gt;1</title>\n",
       "<path d=\"M1358.46,-558.976C1318.5,-545.101 1270.15,-528.317 1226.54,-513.176\" fill=\"none\" stroke=\"black\"/>\n",
       "<polygon fill=\"black\" points=\"1227.62,-509.844 1217.02,-509.871 1225.32,-516.457 1227.62,-509.844\" stroke=\"black\"/>\n",
       "<text font-family=\"Helvetica,sans-Serif\" font-size=\"14.00\" text-anchor=\"middle\" x=\"1227.92\" y=\"-528.669\">True</text>\n",
       "</g>\n",
       "<!-- 44 -->\n",
       "<g class=\"node\" id=\"node33\"><title>44</title>\n",
       "<path d=\"M1795.5,-512C1795.5,-512 1673.5,-512 1673.5,-512 1667.5,-512 1661.5,-506 1661.5,-500 1661.5,-500 1661.5,-441 1661.5,-441 1661.5,-435 1667.5,-429 1673.5,-429 1673.5,-429 1795.5,-429 1795.5,-429 1801.5,-429 1807.5,-435 1807.5,-441 1807.5,-441 1807.5,-500 1807.5,-500 1807.5,-506 1801.5,-512 1795.5,-512\" fill=\"#e58139\" fill-opacity=\"0.933333\" stroke=\"black\"/>\n",
       "<text font-family=\"Helvetica,sans-Serif\" font-size=\"14.00\" text-anchor=\"start\" x=\"1669.5\" y=\"-496.8\">Dependents_1 ≤ 0.5</text>\n",
       "<text font-family=\"Helvetica,sans-Serif\" font-size=\"14.00\" text-anchor=\"start\" x=\"1684.5\" y=\"-481.8\">entropy = 0.337</text>\n",
       "<text font-family=\"Helvetica,sans-Serif\" font-size=\"14.00\" text-anchor=\"start\" x=\"1691\" y=\"-466.8\">samples = 48</text>\n",
       "<text font-family=\"Helvetica,sans-Serif\" font-size=\"14.00\" text-anchor=\"start\" x=\"1690\" y=\"-451.8\">value = [45, 3]</text>\n",
       "<text font-family=\"Helvetica,sans-Serif\" font-size=\"14.00\" text-anchor=\"start\" x=\"1705.5\" y=\"-436.8\">class = 0</text>\n",
       "</g>\n",
       "<!-- 0&#45;&gt;44 -->\n",
       "<g class=\"edge\" id=\"edge32\"><title>0-&gt;44</title>\n",
       "<path d=\"M1528.84,-554.187C1567.65,-538.584 1613.38,-520.196 1651.86,-504.727\" fill=\"none\" stroke=\"black\"/>\n",
       "<polygon fill=\"black\" points=\"1653.5,-507.838 1661.48,-500.86 1650.89,-501.343 1653.5,-507.838\" stroke=\"black\"/>\n",
       "<text font-family=\"Helvetica,sans-Serif\" font-size=\"14.00\" text-anchor=\"middle\" x=\"1651.67\" y=\"-520.156\">False</text>\n",
       "</g>\n",
       "<!-- 2 -->\n",
       "<g class=\"node\" id=\"node3\"><title>2</title>\n",
       "<path d=\"M654.5,-393C654.5,-393 546.5,-393 546.5,-393 540.5,-393 534.5,-387 534.5,-381 534.5,-381 534.5,-322 534.5,-322 534.5,-316 540.5,-310 546.5,-310 546.5,-310 654.5,-310 654.5,-310 660.5,-310 666.5,-316 666.5,-322 666.5,-322 666.5,-381 666.5,-381 666.5,-387 660.5,-393 654.5,-393\" fill=\"#399de5\" fill-opacity=\"0.627451\" stroke=\"black\"/>\n",
       "<text font-family=\"Helvetica,sans-Serif\" font-size=\"14.00\" text-anchor=\"start\" x=\"542.5\" y=\"-377.8\">Married_Yes ≤ 0.5</text>\n",
       "<text font-family=\"Helvetica,sans-Serif\" font-size=\"14.00\" text-anchor=\"start\" x=\"550.5\" y=\"-362.8\">entropy = 0.844</text>\n",
       "<text font-family=\"Helvetica,sans-Serif\" font-size=\"14.00\" text-anchor=\"start\" x=\"553\" y=\"-347.8\">samples = 210</text>\n",
       "<text font-family=\"Helvetica,sans-Serif\" font-size=\"14.00\" text-anchor=\"start\" x=\"547.5\" y=\"-332.8\">value = [57, 153]</text>\n",
       "<text font-family=\"Helvetica,sans-Serif\" font-size=\"14.00\" text-anchor=\"start\" x=\"571.5\" y=\"-317.8\">class = 1</text>\n",
       "</g>\n",
       "<!-- 1&#45;&gt;2 -->\n",
       "<g class=\"edge\" id=\"edge2\"><title>1-&gt;2</title>\n",
       "<path d=\"M995.769,-443.896C899.106,-421.545 761.391,-389.702 676.645,-370.107\" fill=\"none\" stroke=\"black\"/>\n",
       "<polygon fill=\"black\" points=\"677.365,-366.681 666.834,-367.838 675.788,-373.501 677.365,-366.681\" stroke=\"black\"/>\n",
       "</g>\n",
       "<!-- 29 -->\n",
       "<g class=\"node\" id=\"node18\"><title>29</title>\n",
       "<path d=\"M1179.5,-393C1179.5,-393 1033.5,-393 1033.5,-393 1027.5,-393 1021.5,-387 1021.5,-381 1021.5,-381 1021.5,-322 1021.5,-322 1021.5,-316 1027.5,-310 1033.5,-310 1033.5,-310 1179.5,-310 1179.5,-310 1185.5,-310 1191.5,-316 1191.5,-322 1191.5,-322 1191.5,-381 1191.5,-381 1191.5,-387 1185.5,-393 1179.5,-393\" fill=\"#399de5\" fill-opacity=\"0.811765\" stroke=\"black\"/>\n",
       "<text font-family=\"Helvetica,sans-Serif\" font-size=\"14.00\" text-anchor=\"start\" x=\"1029.5\" y=\"-377.8\">Credit_History_1.0 ≤ 0.5</text>\n",
       "<text font-family=\"Helvetica,sans-Serif\" font-size=\"14.00\" text-anchor=\"start\" x=\"1056.5\" y=\"-362.8\">entropy = 0.628</text>\n",
       "<text font-family=\"Helvetica,sans-Serif\" font-size=\"14.00\" text-anchor=\"start\" x=\"1059\" y=\"-347.8\">samples = 146</text>\n",
       "<text font-family=\"Helvetica,sans-Serif\" font-size=\"14.00\" text-anchor=\"start\" x=\"1053.5\" y=\"-332.8\">value = [23, 123]</text>\n",
       "<text font-family=\"Helvetica,sans-Serif\" font-size=\"14.00\" text-anchor=\"start\" x=\"1077.5\" y=\"-317.8\">class = 1</text>\n",
       "</g>\n",
       "<!-- 1&#45;&gt;29 -->\n",
       "<g class=\"edge\" id=\"edge17\"><title>1-&gt;29</title>\n",
       "<path d=\"M1106.5,-428.907C1106.5,-420.649 1106.5,-411.864 1106.5,-403.302\" fill=\"none\" stroke=\"black\"/>\n",
       "<polygon fill=\"black\" points=\"1110,-403.021 1106.5,-393.021 1103,-403.021 1110,-403.021\" stroke=\"black\"/>\n",
       "</g>\n",
       "<!-- 3 -->\n",
       "<g class=\"node\" id=\"node4\"><title>3</title>\n",
       "<path d=\"M368.5,-274C368.5,-274 222.5,-274 222.5,-274 216.5,-274 210.5,-268 210.5,-262 210.5,-262 210.5,-203 210.5,-203 210.5,-197 216.5,-191 222.5,-191 222.5,-191 368.5,-191 368.5,-191 374.5,-191 380.5,-197 380.5,-203 380.5,-203 380.5,-262 380.5,-262 380.5,-268 374.5,-274 368.5,-274\" fill=\"#399de5\" fill-opacity=\"0.427451\" stroke=\"black\"/>\n",
       "<text font-family=\"Helvetica,sans-Serif\" font-size=\"14.00\" text-anchor=\"start\" x=\"218.5\" y=\"-258.8\">Credit_History_1.0 ≤ 0.5</text>\n",
       "<text font-family=\"Helvetica,sans-Serif\" font-size=\"14.00\" text-anchor=\"start\" x=\"245.5\" y=\"-243.8\">entropy = 0.946</text>\n",
       "<text font-family=\"Helvetica,sans-Serif\" font-size=\"14.00\" text-anchor=\"start\" x=\"252\" y=\"-228.8\">samples = 66</text>\n",
       "<text font-family=\"Helvetica,sans-Serif\" font-size=\"14.00\" text-anchor=\"start\" x=\"247\" y=\"-213.8\">value = [24, 42]</text>\n",
       "<text font-family=\"Helvetica,sans-Serif\" font-size=\"14.00\" text-anchor=\"start\" x=\"266.5\" y=\"-198.8\">class = 1</text>\n",
       "</g>\n",
       "<!-- 2&#45;&gt;3 -->\n",
       "<g class=\"edge\" id=\"edge3\"><title>2-&gt;3</title>\n",
       "<path d=\"M534.32,-325.113C492.195,-308.953 436.968,-287.768 390.234,-269.841\" fill=\"none\" stroke=\"black\"/>\n",
       "<polygon fill=\"black\" points=\"391.294,-266.498 380.703,-266.185 388.786,-273.034 391.294,-266.498\" stroke=\"black\"/>\n",
       "</g>\n",
       "<!-- 14 -->\n",
       "<g class=\"node\" id=\"node11\"><title>14</title>\n",
       "<path d=\"M661.5,-274C661.5,-274 539.5,-274 539.5,-274 533.5,-274 527.5,-268 527.5,-262 527.5,-262 527.5,-203 527.5,-203 527.5,-197 533.5,-191 539.5,-191 539.5,-191 661.5,-191 661.5,-191 667.5,-191 673.5,-197 673.5,-203 673.5,-203 673.5,-262 673.5,-262 673.5,-268 667.5,-274 661.5,-274\" fill=\"#399de5\" fill-opacity=\"0.701961\" stroke=\"black\"/>\n",
       "<text font-family=\"Helvetica,sans-Serif\" font-size=\"14.00\" text-anchor=\"start\" x=\"535.5\" y=\"-258.8\">Dependents_1 ≤ 0.5</text>\n",
       "<text font-family=\"Helvetica,sans-Serif\" font-size=\"14.00\" text-anchor=\"start\" x=\"550.5\" y=\"-243.8\">entropy = 0.777</text>\n",
       "<text font-family=\"Helvetica,sans-Serif\" font-size=\"14.00\" text-anchor=\"start\" x=\"553\" y=\"-228.8\">samples = 144</text>\n",
       "<text font-family=\"Helvetica,sans-Serif\" font-size=\"14.00\" text-anchor=\"start\" x=\"547.5\" y=\"-213.8\">value = [33, 111]</text>\n",
       "<text font-family=\"Helvetica,sans-Serif\" font-size=\"14.00\" text-anchor=\"start\" x=\"571.5\" y=\"-198.8\">class = 1</text>\n",
       "</g>\n",
       "<!-- 2&#45;&gt;14 -->\n",
       "<g class=\"edge\" id=\"edge10\"><title>2-&gt;14</title>\n",
       "<path d=\"M600.5,-309.907C600.5,-301.649 600.5,-292.864 600.5,-284.302\" fill=\"none\" stroke=\"black\"/>\n",
       "<polygon fill=\"black\" points=\"604,-284.021 600.5,-274.021 597,-284.021 604,-284.021\" stroke=\"black\"/>\n",
       "</g>\n",
       "<!-- 4 -->\n",
       "<g class=\"node\" id=\"node5\"><title>4</title>\n",
       "<path d=\"M173,-155C173,-155 12,-155 12,-155 6,-155 0,-149 0,-143 0,-143 0,-84 0,-84 0,-78 6,-72 12,-72 12,-72 173,-72 173,-72 179,-72 185,-78 185,-84 185,-84 185,-143 185,-143 185,-149 179,-155 173,-155\" fill=\"#399de5\" fill-opacity=\"0.800000\" stroke=\"black\"/>\n",
       "<text font-family=\"Helvetica,sans-Serif\" font-size=\"14.00\" text-anchor=\"start\" x=\"8\" y=\"-139.8\">Property_Area_Rural ≤ 0.5</text>\n",
       "<text font-family=\"Helvetica,sans-Serif\" font-size=\"14.00\" text-anchor=\"start\" x=\"46.5\" y=\"-124.8\">entropy = 0.65</text>\n",
       "<text font-family=\"Helvetica,sans-Serif\" font-size=\"14.00\" text-anchor=\"start\" x=\"53\" y=\"-109.8\">samples = 6</text>\n",
       "<text font-family=\"Helvetica,sans-Serif\" font-size=\"14.00\" text-anchor=\"start\" x=\"52\" y=\"-94.8\">value = [1, 5]</text>\n",
       "<text font-family=\"Helvetica,sans-Serif\" font-size=\"14.00\" text-anchor=\"start\" x=\"63.5\" y=\"-79.8\">class = 1</text>\n",
       "</g>\n",
       "<!-- 3&#45;&gt;4 -->\n",
       "<g class=\"edge\" id=\"edge4\"><title>3-&gt;4</title>\n",
       "<path d=\"M225.07,-190.907C207.907,-181.016 189.433,-170.368 171.885,-160.254\" fill=\"none\" stroke=\"black\"/>\n",
       "<polygon fill=\"black\" points=\"173.217,-156.982 162.805,-155.021 169.722,-163.047 173.217,-156.982\" stroke=\"black\"/>\n",
       "</g>\n",
       "<!-- 7 -->\n",
       "<g class=\"node\" id=\"node8\"><title>7</title>\n",
       "<path d=\"M376,-155C376,-155 215,-155 215,-155 209,-155 203,-149 203,-143 203,-143 203,-84 203,-84 203,-78 209,-72 215,-72 215,-72 376,-72 376,-72 382,-72 388,-78 388,-84 388,-84 388,-143 388,-143 388,-149 382,-155 376,-155\" fill=\"#399de5\" fill-opacity=\"0.376471\" stroke=\"black\"/>\n",
       "<text font-family=\"Helvetica,sans-Serif\" font-size=\"14.00\" text-anchor=\"start\" x=\"211\" y=\"-139.8\">Property_Area_Rural ≤ 0.5</text>\n",
       "<text font-family=\"Helvetica,sans-Serif\" font-size=\"14.00\" text-anchor=\"start\" x=\"249.5\" y=\"-124.8\">entropy = 0.96</text>\n",
       "<text font-family=\"Helvetica,sans-Serif\" font-size=\"14.00\" text-anchor=\"start\" x=\"252\" y=\"-109.8\">samples = 60</text>\n",
       "<text font-family=\"Helvetica,sans-Serif\" font-size=\"14.00\" text-anchor=\"start\" x=\"247\" y=\"-94.8\">value = [23, 37]</text>\n",
       "<text font-family=\"Helvetica,sans-Serif\" font-size=\"14.00\" text-anchor=\"start\" x=\"266.5\" y=\"-79.8\">class = 1</text>\n",
       "</g>\n",
       "<!-- 3&#45;&gt;7 -->\n",
       "<g class=\"edge\" id=\"edge7\"><title>3-&gt;7</title>\n",
       "<path d=\"M295.5,-190.907C295.5,-182.649 295.5,-173.864 295.5,-165.302\" fill=\"none\" stroke=\"black\"/>\n",
       "<polygon fill=\"black\" points=\"299,-165.021 295.5,-155.021 292,-165.021 299,-165.021\" stroke=\"black\"/>\n",
       "</g>\n",
       "<!-- 5 -->\n",
       "<g class=\"node\" id=\"node6\"><title>5</title>\n",
       "<path d=\"M71.5,-36C71.5,-36 41.5,-36 41.5,-36 35.5,-36 29.5,-30 29.5,-24 29.5,-24 29.5,-12 29.5,-12 29.5,-6 35.5,-0 41.5,-0 41.5,-0 71.5,-0 71.5,-0 77.5,-0 83.5,-6 83.5,-12 83.5,-12 83.5,-24 83.5,-24 83.5,-30 77.5,-36 71.5,-36\" fill=\"#c0c0c0\" stroke=\"black\"/>\n",
       "<text font-family=\"Helvetica,sans-Serif\" font-size=\"14.00\" text-anchor=\"middle\" x=\"56.5\" y=\"-14.3\">(...)</text>\n",
       "</g>\n",
       "<!-- 4&#45;&gt;5 -->\n",
       "<g class=\"edge\" id=\"edge5\"><title>4-&gt;5</title>\n",
       "<path d=\"M76.8146,-71.7615C73.4573,-63.0419 69.9907,-54.0385 66.8927,-45.9921\" fill=\"none\" stroke=\"black\"/>\n",
       "<polygon fill=\"black\" points=\"70.0609,-44.4797 63.2014,-36.4051 63.5284,-46.9949 70.0609,-44.4797\" stroke=\"black\"/>\n",
       "</g>\n",
       "<!-- 6 -->\n",
       "<g class=\"node\" id=\"node7\"><title>6</title>\n",
       "<path d=\"M143.5,-36C143.5,-36 113.5,-36 113.5,-36 107.5,-36 101.5,-30 101.5,-24 101.5,-24 101.5,-12 101.5,-12 101.5,-6 107.5,-0 113.5,-0 113.5,-0 143.5,-0 143.5,-0 149.5,-0 155.5,-6 155.5,-12 155.5,-12 155.5,-24 155.5,-24 155.5,-30 149.5,-36 143.5,-36\" fill=\"#c0c0c0\" stroke=\"black\"/>\n",
       "<text font-family=\"Helvetica,sans-Serif\" font-size=\"14.00\" text-anchor=\"middle\" x=\"128.5\" y=\"-14.3\">(...)</text>\n",
       "</g>\n",
       "<!-- 4&#45;&gt;6 -->\n",
       "<g class=\"edge\" id=\"edge6\"><title>4-&gt;6</title>\n",
       "<path d=\"M108.185,-71.7615C111.543,-63.0419 115.009,-54.0385 118.107,-45.9921\" fill=\"none\" stroke=\"black\"/>\n",
       "<polygon fill=\"black\" points=\"121.472,-46.9949 121.799,-36.4051 114.939,-44.4797 121.472,-46.9949\" stroke=\"black\"/>\n",
       "</g>\n",
       "<!-- 8 -->\n",
       "<g class=\"node\" id=\"node9\"><title>8</title>\n",
       "<path d=\"M289.5,-36C289.5,-36 259.5,-36 259.5,-36 253.5,-36 247.5,-30 247.5,-24 247.5,-24 247.5,-12 247.5,-12 247.5,-6 253.5,-0 259.5,-0 259.5,-0 289.5,-0 289.5,-0 295.5,-0 301.5,-6 301.5,-12 301.5,-12 301.5,-24 301.5,-24 301.5,-30 295.5,-36 289.5,-36\" fill=\"#c0c0c0\" stroke=\"black\"/>\n",
       "<text font-family=\"Helvetica,sans-Serif\" font-size=\"14.00\" text-anchor=\"middle\" x=\"274.5\" y=\"-14.3\">(...)</text>\n",
       "</g>\n",
       "<!-- 7&#45;&gt;8 -->\n",
       "<g class=\"edge\" id=\"edge8\"><title>7-&gt;8</title>\n",
       "<path d=\"M286.35,-71.7615C284.414,-63.1387 282.415,-54.2385 280.623,-46.2606\" fill=\"none\" stroke=\"black\"/>\n",
       "<polygon fill=\"black\" points=\"284.016,-45.395 278.409,-36.4051 277.186,-46.9291 284.016,-45.395\" stroke=\"black\"/>\n",
       "</g>\n",
       "<!-- 11 -->\n",
       "<g class=\"node\" id=\"node10\"><title>11</title>\n",
       "<path d=\"M361.5,-36C361.5,-36 331.5,-36 331.5,-36 325.5,-36 319.5,-30 319.5,-24 319.5,-24 319.5,-12 319.5,-12 319.5,-6 325.5,-0 331.5,-0 331.5,-0 361.5,-0 361.5,-0 367.5,-0 373.5,-6 373.5,-12 373.5,-12 373.5,-24 373.5,-24 373.5,-30 367.5,-36 361.5,-36\" fill=\"#c0c0c0\" stroke=\"black\"/>\n",
       "<text font-family=\"Helvetica,sans-Serif\" font-size=\"14.00\" text-anchor=\"middle\" x=\"346.5\" y=\"-14.3\">(...)</text>\n",
       "</g>\n",
       "<!-- 7&#45;&gt;11 -->\n",
       "<g class=\"edge\" id=\"edge9\"><title>7-&gt;11</title>\n",
       "<path d=\"M317.721,-71.7615C322.636,-62.7512 327.716,-53.4379 332.214,-45.1906\" fill=\"none\" stroke=\"black\"/>\n",
       "<polygon fill=\"black\" points=\"335.29,-46.8601 337.006,-36.4051 329.145,-43.5081 335.29,-46.8601\" stroke=\"black\"/>\n",
       "</g>\n",
       "<!-- 15 -->\n",
       "<g class=\"node\" id=\"node12\"><title>15</title>\n",
       "<path d=\"M579,-155C579,-155 418,-155 418,-155 412,-155 406,-149 406,-143 406,-143 406,-84 406,-84 406,-78 412,-72 418,-72 418,-72 579,-72 579,-72 585,-72 591,-78 591,-84 591,-84 591,-143 591,-143 591,-149 585,-155 579,-155\" fill=\"#399de5\" fill-opacity=\"0.741176\" stroke=\"black\"/>\n",
       "<text font-family=\"Helvetica,sans-Serif\" font-size=\"14.00\" text-anchor=\"start\" x=\"414\" y=\"-139.8\">Property_Area_Rural ≤ 0.5</text>\n",
       "<text font-family=\"Helvetica,sans-Serif\" font-size=\"14.00\" text-anchor=\"start\" x=\"448.5\" y=\"-124.8\">entropy = 0.732</text>\n",
       "<text font-family=\"Helvetica,sans-Serif\" font-size=\"14.00\" text-anchor=\"start\" x=\"451\" y=\"-109.8\">samples = 117</text>\n",
       "<text font-family=\"Helvetica,sans-Serif\" font-size=\"14.00\" text-anchor=\"start\" x=\"450\" y=\"-94.8\">value = [24, 93]</text>\n",
       "<text font-family=\"Helvetica,sans-Serif\" font-size=\"14.00\" text-anchor=\"start\" x=\"469.5\" y=\"-79.8\">class = 1</text>\n",
       "</g>\n",
       "<!-- 14&#45;&gt;15 -->\n",
       "<g class=\"edge\" id=\"edge11\"><title>14-&gt;15</title>\n",
       "<path d=\"M565.112,-190.907C557.2,-181.832 548.734,-172.121 540.581,-162.769\" fill=\"none\" stroke=\"black\"/>\n",
       "<polygon fill=\"black\" points=\"543.035,-160.259 533.826,-155.021 537.759,-164.859 543.035,-160.259\" stroke=\"black\"/>\n",
       "</g>\n",
       "<!-- 22 -->\n",
       "<g class=\"node\" id=\"node15\"><title>22</title>\n",
       "<path d=\"M782,-155C782,-155 621,-155 621,-155 615,-155 609,-149 609,-143 609,-143 609,-84 609,-84 609,-78 615,-72 621,-72 621,-72 782,-72 782,-72 788,-72 794,-78 794,-84 794,-84 794,-143 794,-143 794,-149 788,-155 782,-155\" fill=\"#399de5\" fill-opacity=\"0.498039\" stroke=\"black\"/>\n",
       "<text font-family=\"Helvetica,sans-Serif\" font-size=\"14.00\" text-anchor=\"start\" x=\"617\" y=\"-139.8\">Property_Area_Rural ≤ 0.5</text>\n",
       "<text font-family=\"Helvetica,sans-Serif\" font-size=\"14.00\" text-anchor=\"start\" x=\"651.5\" y=\"-124.8\">entropy = 0.918</text>\n",
       "<text font-family=\"Helvetica,sans-Serif\" font-size=\"14.00\" text-anchor=\"start\" x=\"658\" y=\"-109.8\">samples = 27</text>\n",
       "<text font-family=\"Helvetica,sans-Serif\" font-size=\"14.00\" text-anchor=\"start\" x=\"657\" y=\"-94.8\">value = [9, 18]</text>\n",
       "<text font-family=\"Helvetica,sans-Serif\" font-size=\"14.00\" text-anchor=\"start\" x=\"672.5\" y=\"-79.8\">class = 1</text>\n",
       "</g>\n",
       "<!-- 14&#45;&gt;22 -->\n",
       "<g class=\"edge\" id=\"edge14\"><title>14-&gt;22</title>\n",
       "<path d=\"M635.541,-190.907C643.376,-181.832 651.759,-172.121 659.831,-162.769\" fill=\"none\" stroke=\"black\"/>\n",
       "<polygon fill=\"black\" points=\"662.635,-164.878 666.52,-155.021 657.337,-160.303 662.635,-164.878\" stroke=\"black\"/>\n",
       "</g>\n",
       "<!-- 16 -->\n",
       "<g class=\"node\" id=\"node13\"><title>16</title>\n",
       "<path d=\"M462.5,-36C462.5,-36 432.5,-36 432.5,-36 426.5,-36 420.5,-30 420.5,-24 420.5,-24 420.5,-12 420.5,-12 420.5,-6 426.5,-0 432.5,-0 432.5,-0 462.5,-0 462.5,-0 468.5,-0 474.5,-6 474.5,-12 474.5,-12 474.5,-24 474.5,-24 474.5,-30 468.5,-36 462.5,-36\" fill=\"#c0c0c0\" stroke=\"black\"/>\n",
       "<text font-family=\"Helvetica,sans-Serif\" font-size=\"14.00\" text-anchor=\"middle\" x=\"447.5\" y=\"-14.3\">(...)</text>\n",
       "</g>\n",
       "<!-- 15&#45;&gt;16 -->\n",
       "<g class=\"edge\" id=\"edge12\"><title>15-&gt;16</title>\n",
       "<path d=\"M476.279,-71.7615C471.364,-62.7512 466.284,-53.4379 461.786,-45.1906\" fill=\"none\" stroke=\"black\"/>\n",
       "<polygon fill=\"black\" points=\"464.855,-43.5081 456.994,-36.4051 458.71,-46.8601 464.855,-43.5081\" stroke=\"black\"/>\n",
       "</g>\n",
       "<!-- 19 -->\n",
       "<g class=\"node\" id=\"node14\"><title>19</title>\n",
       "<path d=\"M534.5,-36C534.5,-36 504.5,-36 504.5,-36 498.5,-36 492.5,-30 492.5,-24 492.5,-24 492.5,-12 492.5,-12 492.5,-6 498.5,-0 504.5,-0 504.5,-0 534.5,-0 534.5,-0 540.5,-0 546.5,-6 546.5,-12 546.5,-12 546.5,-24 546.5,-24 546.5,-30 540.5,-36 534.5,-36\" fill=\"#c0c0c0\" stroke=\"black\"/>\n",
       "<text font-family=\"Helvetica,sans-Serif\" font-size=\"14.00\" text-anchor=\"middle\" x=\"519.5\" y=\"-14.3\">(...)</text>\n",
       "</g>\n",
       "<!-- 15&#45;&gt;19 -->\n",
       "<g class=\"edge\" id=\"edge13\"><title>15-&gt;19</title>\n",
       "<path d=\"M507.65,-71.7615C509.586,-63.1387 511.585,-54.2385 513.377,-46.2606\" fill=\"none\" stroke=\"black\"/>\n",
       "<polygon fill=\"black\" points=\"516.814,-46.9291 515.591,-36.4051 509.984,-45.395 516.814,-46.9291\" stroke=\"black\"/>\n",
       "</g>\n",
       "<!-- 23 -->\n",
       "<g class=\"node\" id=\"node16\"><title>23</title>\n",
       "<path d=\"M667.5,-36C667.5,-36 637.5,-36 637.5,-36 631.5,-36 625.5,-30 625.5,-24 625.5,-24 625.5,-12 625.5,-12 625.5,-6 631.5,-0 637.5,-0 637.5,-0 667.5,-0 667.5,-0 673.5,-0 679.5,-6 679.5,-12 679.5,-12 679.5,-24 679.5,-24 679.5,-30 673.5,-36 667.5,-36\" fill=\"#c0c0c0\" stroke=\"black\"/>\n",
       "<text font-family=\"Helvetica,sans-Serif\" font-size=\"14.00\" text-anchor=\"middle\" x=\"652.5\" y=\"-14.3\">(...)</text>\n",
       "</g>\n",
       "<!-- 22&#45;&gt;23 -->\n",
       "<g class=\"edge\" id=\"edge15\"><title>22-&gt;23</title>\n",
       "<path d=\"M680.15,-71.7615C675.479,-62.8481 670.653,-53.6382 666.365,-45.4571\" fill=\"none\" stroke=\"black\"/>\n",
       "<polygon fill=\"black\" points=\"669.363,-43.6378 661.621,-36.4051 663.163,-46.8872 669.363,-43.6378\" stroke=\"black\"/>\n",
       "</g>\n",
       "<!-- 26 -->\n",
       "<g class=\"node\" id=\"node17\"><title>26</title>\n",
       "<path d=\"M739.5,-36C739.5,-36 709.5,-36 709.5,-36 703.5,-36 697.5,-30 697.5,-24 697.5,-24 697.5,-12 697.5,-12 697.5,-6 703.5,-0 709.5,-0 709.5,-0 739.5,-0 739.5,-0 745.5,-0 751.5,-6 751.5,-12 751.5,-12 751.5,-24 751.5,-24 751.5,-30 745.5,-36 739.5,-36\" fill=\"#c0c0c0\" stroke=\"black\"/>\n",
       "<text font-family=\"Helvetica,sans-Serif\" font-size=\"14.00\" text-anchor=\"middle\" x=\"724.5\" y=\"-14.3\">(...)</text>\n",
       "</g>\n",
       "<!-- 22&#45;&gt;26 -->\n",
       "<g class=\"edge\" id=\"edge16\"><title>22-&gt;26</title>\n",
       "<path d=\"M711.521,-71.7615C713.642,-63.1387 715.832,-54.2385 717.794,-46.2606\" fill=\"none\" stroke=\"black\"/>\n",
       "<polygon fill=\"black\" points=\"721.228,-46.9517 720.219,-36.4051 714.431,-45.2796 721.228,-46.9517\" stroke=\"black\"/>\n",
       "</g>\n",
       "<!-- 30 -->\n",
       "<g class=\"node\" id=\"node19\"><title>30</title>\n",
       "<path d=\"M1089.5,-274C1089.5,-274 967.5,-274 967.5,-274 961.5,-274 955.5,-268 955.5,-262 955.5,-262 955.5,-203 955.5,-203 955.5,-197 961.5,-191 967.5,-191 967.5,-191 1089.5,-191 1089.5,-191 1095.5,-191 1101.5,-197 1101.5,-203 1101.5,-203 1101.5,-262 1101.5,-262 1101.5,-268 1095.5,-274 1089.5,-274\" fill=\"#399de5\" fill-opacity=\"0.376471\" stroke=\"black\"/>\n",
       "<text font-family=\"Helvetica,sans-Serif\" font-size=\"14.00\" text-anchor=\"start\" x=\"963.5\" y=\"-258.8\">Dependents_1 ≤ 0.5</text>\n",
       "<text font-family=\"Helvetica,sans-Serif\" font-size=\"14.00\" text-anchor=\"start\" x=\"978.5\" y=\"-243.8\">entropy = 0.961</text>\n",
       "<text font-family=\"Helvetica,sans-Serif\" font-size=\"14.00\" text-anchor=\"start\" x=\"985\" y=\"-228.8\">samples = 13</text>\n",
       "<text font-family=\"Helvetica,sans-Serif\" font-size=\"14.00\" text-anchor=\"start\" x=\"988\" y=\"-213.8\">value = [5, 8]</text>\n",
       "<text font-family=\"Helvetica,sans-Serif\" font-size=\"14.00\" text-anchor=\"start\" x=\"999.5\" y=\"-198.8\">class = 1</text>\n",
       "</g>\n",
       "<!-- 29&#45;&gt;30 -->\n",
       "<g class=\"edge\" id=\"edge18\"><title>29-&gt;30</title>\n",
       "<path d=\"M1079.44,-309.907C1073.57,-301.105 1067.3,-291.703 1061.24,-282.612\" fill=\"none\" stroke=\"black\"/>\n",
       "<polygon fill=\"black\" points=\"1063.97,-280.4 1055.51,-274.021 1058.15,-284.283 1063.97,-280.4\" stroke=\"black\"/>\n",
       "</g>\n",
       "<!-- 37 -->\n",
       "<g class=\"node\" id=\"node26\"><title>37</title>\n",
       "<path d=\"M1239.5,-274C1239.5,-274 1131.5,-274 1131.5,-274 1125.5,-274 1119.5,-268 1119.5,-262 1119.5,-262 1119.5,-203 1119.5,-203 1119.5,-197 1125.5,-191 1131.5,-191 1131.5,-191 1239.5,-191 1239.5,-191 1245.5,-191 1251.5,-197 1251.5,-203 1251.5,-203 1251.5,-262 1251.5,-262 1251.5,-268 1245.5,-274 1239.5,-274\" fill=\"#399de5\" fill-opacity=\"0.843137\" stroke=\"black\"/>\n",
       "<text font-family=\"Helvetica,sans-Serif\" font-size=\"14.00\" text-anchor=\"start\" x=\"1127.5\" y=\"-258.8\">Married_Yes ≤ 0.5</text>\n",
       "<text font-family=\"Helvetica,sans-Serif\" font-size=\"14.00\" text-anchor=\"start\" x=\"1135.5\" y=\"-243.8\">entropy = 0.572</text>\n",
       "<text font-family=\"Helvetica,sans-Serif\" font-size=\"14.00\" text-anchor=\"start\" x=\"1138\" y=\"-228.8\">samples = 133</text>\n",
       "<text font-family=\"Helvetica,sans-Serif\" font-size=\"14.00\" text-anchor=\"start\" x=\"1132.5\" y=\"-213.8\">value = [18, 115]</text>\n",
       "<text font-family=\"Helvetica,sans-Serif\" font-size=\"14.00\" text-anchor=\"start\" x=\"1156.5\" y=\"-198.8\">class = 1</text>\n",
       "</g>\n",
       "<!-- 29&#45;&gt;37 -->\n",
       "<g class=\"edge\" id=\"edge25\"><title>29-&gt;37</title>\n",
       "<path d=\"M1133.91,-309.907C1139.91,-301.014 1146.33,-291.509 1152.53,-282.331\" fill=\"none\" stroke=\"black\"/>\n",
       "<polygon fill=\"black\" points=\"1155.44,-284.267 1158.14,-274.021 1149.64,-280.35 1155.44,-284.267\" stroke=\"black\"/>\n",
       "</g>\n",
       "<!-- 31 -->\n",
       "<g class=\"node\" id=\"node20\"><title>31</title>\n",
       "<path d=\"M932.5,-155C932.5,-155 824.5,-155 824.5,-155 818.5,-155 812.5,-149 812.5,-143 812.5,-143 812.5,-84 812.5,-84 812.5,-78 818.5,-72 824.5,-72 824.5,-72 932.5,-72 932.5,-72 938.5,-72 944.5,-78 944.5,-84 944.5,-84 944.5,-143 944.5,-143 944.5,-149 938.5,-155 932.5,-155\" fill=\"#399de5\" fill-opacity=\"0.713725\" stroke=\"black\"/>\n",
       "<text font-family=\"Helvetica,sans-Serif\" font-size=\"14.00\" text-anchor=\"start\" x=\"820.5\" y=\"-139.8\">Married_Yes ≤ 0.5</text>\n",
       "<text font-family=\"Helvetica,sans-Serif\" font-size=\"14.00\" text-anchor=\"start\" x=\"828.5\" y=\"-124.8\">entropy = 0.764</text>\n",
       "<text font-family=\"Helvetica,sans-Serif\" font-size=\"14.00\" text-anchor=\"start\" x=\"839\" y=\"-109.8\">samples = 9</text>\n",
       "<text font-family=\"Helvetica,sans-Serif\" font-size=\"14.00\" text-anchor=\"start\" x=\"838\" y=\"-94.8\">value = [2, 7]</text>\n",
       "<text font-family=\"Helvetica,sans-Serif\" font-size=\"14.00\" text-anchor=\"start\" x=\"849.5\" y=\"-79.8\">class = 1</text>\n",
       "</g>\n",
       "<!-- 30&#45;&gt;31 -->\n",
       "<g class=\"edge\" id=\"edge19\"><title>30-&gt;31</title>\n",
       "<path d=\"M976.458,-190.907C964.242,-181.379 951.126,-171.148 938.589,-161.37\" fill=\"none\" stroke=\"black\"/>\n",
       "<polygon fill=\"black\" points=\"940.487,-158.411 930.45,-155.021 936.182,-163.931 940.487,-158.411\" stroke=\"black\"/>\n",
       "</g>\n",
       "<!-- 34 -->\n",
       "<g class=\"node\" id=\"node23\"><title>34</title>\n",
       "<path d=\"M1082.5,-155C1082.5,-155 974.5,-155 974.5,-155 968.5,-155 962.5,-149 962.5,-143 962.5,-143 962.5,-84 962.5,-84 962.5,-78 968.5,-72 974.5,-72 974.5,-72 1082.5,-72 1082.5,-72 1088.5,-72 1094.5,-78 1094.5,-84 1094.5,-84 1094.5,-143 1094.5,-143 1094.5,-149 1088.5,-155 1082.5,-155\" fill=\"#e58139\" fill-opacity=\"0.666667\" stroke=\"black\"/>\n",
       "<text font-family=\"Helvetica,sans-Serif\" font-size=\"14.00\" text-anchor=\"start\" x=\"970.5\" y=\"-139.8\">Married_Yes ≤ 0.5</text>\n",
       "<text font-family=\"Helvetica,sans-Serif\" font-size=\"14.00\" text-anchor=\"start\" x=\"978.5\" y=\"-124.8\">entropy = 0.811</text>\n",
       "<text font-family=\"Helvetica,sans-Serif\" font-size=\"14.00\" text-anchor=\"start\" x=\"989\" y=\"-109.8\">samples = 4</text>\n",
       "<text font-family=\"Helvetica,sans-Serif\" font-size=\"14.00\" text-anchor=\"start\" x=\"988\" y=\"-94.8\">value = [3, 1]</text>\n",
       "<text font-family=\"Helvetica,sans-Serif\" font-size=\"14.00\" text-anchor=\"start\" x=\"999.5\" y=\"-79.8\">class = 0</text>\n",
       "</g>\n",
       "<!-- 30&#45;&gt;34 -->\n",
       "<g class=\"edge\" id=\"edge22\"><title>30-&gt;34</title>\n",
       "<path d=\"M1028.5,-190.907C1028.5,-182.649 1028.5,-173.864 1028.5,-165.302\" fill=\"none\" stroke=\"black\"/>\n",
       "<polygon fill=\"black\" points=\"1032,-165.021 1028.5,-155.021 1025,-165.021 1032,-165.021\" stroke=\"black\"/>\n",
       "</g>\n",
       "<!-- 32 -->\n",
       "<g class=\"node\" id=\"node21\"><title>32</title>\n",
       "<path d=\"M834.5,-36C834.5,-36 804.5,-36 804.5,-36 798.5,-36 792.5,-30 792.5,-24 792.5,-24 792.5,-12 792.5,-12 792.5,-6 798.5,-0 804.5,-0 804.5,-0 834.5,-0 834.5,-0 840.5,-0 846.5,-6 846.5,-12 846.5,-12 846.5,-24 846.5,-24 846.5,-30 840.5,-36 834.5,-36\" fill=\"#c0c0c0\" stroke=\"black\"/>\n",
       "<text font-family=\"Helvetica,sans-Serif\" font-size=\"14.00\" text-anchor=\"middle\" x=\"819.5\" y=\"-14.3\">(...)</text>\n",
       "</g>\n",
       "<!-- 31&#45;&gt;32 -->\n",
       "<g class=\"edge\" id=\"edge20\"><title>31-&gt;32</title>\n",
       "<path d=\"M852.793,-71.7615C847.047,-62.6543 841.104,-53.2376 835.859,-44.925\" fill=\"none\" stroke=\"black\"/>\n",
       "<polygon fill=\"black\" points=\"838.779,-42.9944 830.483,-36.4051 832.86,-46.73 838.779,-42.9944\" stroke=\"black\"/>\n",
       "</g>\n",
       "<!-- 33 -->\n",
       "<g class=\"node\" id=\"node22\"><title>33</title>\n",
       "<path d=\"M906.5,-36C906.5,-36 876.5,-36 876.5,-36 870.5,-36 864.5,-30 864.5,-24 864.5,-24 864.5,-12 864.5,-12 864.5,-6 870.5,-0 876.5,-0 876.5,-0 906.5,-0 906.5,-0 912.5,-0 918.5,-6 918.5,-12 918.5,-12 918.5,-24 918.5,-24 918.5,-30 912.5,-36 906.5,-36\" fill=\"#c0c0c0\" stroke=\"black\"/>\n",
       "<text font-family=\"Helvetica,sans-Serif\" font-size=\"14.00\" text-anchor=\"middle\" x=\"891.5\" y=\"-14.3\">(...)</text>\n",
       "</g>\n",
       "<!-- 31&#45;&gt;33 -->\n",
       "<g class=\"edge\" id=\"edge21\"><title>31-&gt;33</title>\n",
       "<path d=\"M884.164,-71.7615C885.35,-63.2356 886.573,-54.4385 887.672,-46.5299\" fill=\"none\" stroke=\"black\"/>\n",
       "<polygon fill=\"black\" points=\"891.169,-46.7918 889.08,-36.4051 884.236,-45.8278 891.169,-46.7918\" stroke=\"black\"/>\n",
       "</g>\n",
       "<!-- 35 -->\n",
       "<g class=\"node\" id=\"node24\"><title>35</title>\n",
       "<path d=\"M991.5,-36C991.5,-36 961.5,-36 961.5,-36 955.5,-36 949.5,-30 949.5,-24 949.5,-24 949.5,-12 949.5,-12 949.5,-6 955.5,-0 961.5,-0 961.5,-0 991.5,-0 991.5,-0 997.5,-0 1003.5,-6 1003.5,-12 1003.5,-12 1003.5,-24 1003.5,-24 1003.5,-30 997.5,-36 991.5,-36\" fill=\"#c0c0c0\" stroke=\"black\"/>\n",
       "<text font-family=\"Helvetica,sans-Serif\" font-size=\"14.00\" text-anchor=\"middle\" x=\"976.5\" y=\"-14.3\">(...)</text>\n",
       "</g>\n",
       "<!-- 34&#45;&gt;35 -->\n",
       "<g class=\"edge\" id=\"edge23\"><title>34-&gt;35</title>\n",
       "<path d=\"M1005.84,-71.7615C1000.83,-62.7512 995.653,-53.4379 991.066,-45.1906\" fill=\"none\" stroke=\"black\"/>\n",
       "<polygon fill=\"black\" points=\"994.099,-43.4433 986.18,-36.4051 987.982,-46.8456 994.099,-43.4433\" stroke=\"black\"/>\n",
       "</g>\n",
       "<!-- 36 -->\n",
       "<g class=\"node\" id=\"node25\"><title>36</title>\n",
       "<path d=\"M1063.5,-36C1063.5,-36 1033.5,-36 1033.5,-36 1027.5,-36 1021.5,-30 1021.5,-24 1021.5,-24 1021.5,-12 1021.5,-12 1021.5,-6 1027.5,-0 1033.5,-0 1033.5,-0 1063.5,-0 1063.5,-0 1069.5,-0 1075.5,-6 1075.5,-12 1075.5,-12 1075.5,-24 1075.5,-24 1075.5,-30 1069.5,-36 1063.5,-36\" fill=\"#c0c0c0\" stroke=\"black\"/>\n",
       "<text font-family=\"Helvetica,sans-Serif\" font-size=\"14.00\" text-anchor=\"middle\" x=\"1048.5\" y=\"-14.3\">(...)</text>\n",
       "</g>\n",
       "<!-- 34&#45;&gt;36 -->\n",
       "<g class=\"edge\" id=\"edge24\"><title>34-&gt;36</title>\n",
       "<path d=\"M1037.21,-71.7615C1039.06,-63.1387 1040.96,-54.2385 1042.67,-46.2606\" fill=\"none\" stroke=\"black\"/>\n",
       "<polygon fill=\"black\" points=\"1046.11,-46.916 1044.78,-36.4051 1039.26,-45.4518 1046.11,-46.916\" stroke=\"black\"/>\n",
       "</g>\n",
       "<!-- 38 -->\n",
       "<g class=\"node\" id=\"node27\"><title>38</title>\n",
       "<path d=\"M1246.5,-155C1246.5,-155 1124.5,-155 1124.5,-155 1118.5,-155 1112.5,-149 1112.5,-143 1112.5,-143 1112.5,-84 1112.5,-84 1112.5,-78 1118.5,-72 1124.5,-72 1124.5,-72 1246.5,-72 1246.5,-72 1252.5,-72 1258.5,-78 1258.5,-84 1258.5,-84 1258.5,-143 1258.5,-143 1258.5,-149 1252.5,-155 1246.5,-155\" fill=\"#399de5\" fill-opacity=\"0.788235\" stroke=\"black\"/>\n",
       "<text font-family=\"Helvetica,sans-Serif\" font-size=\"14.00\" text-anchor=\"start\" x=\"1120.5\" y=\"-139.8\">Dependents_1 ≤ 0.5</text>\n",
       "<text font-family=\"Helvetica,sans-Serif\" font-size=\"14.00\" text-anchor=\"start\" x=\"1135.5\" y=\"-124.8\">entropy = 0.667</text>\n",
       "<text font-family=\"Helvetica,sans-Serif\" font-size=\"14.00\" text-anchor=\"start\" x=\"1142\" y=\"-109.8\">samples = 46</text>\n",
       "<text font-family=\"Helvetica,sans-Serif\" font-size=\"14.00\" text-anchor=\"start\" x=\"1141\" y=\"-94.8\">value = [8, 38]</text>\n",
       "<text font-family=\"Helvetica,sans-Serif\" font-size=\"14.00\" text-anchor=\"start\" x=\"1156.5\" y=\"-79.8\">class = 1</text>\n",
       "</g>\n",
       "<!-- 37&#45;&gt;38 -->\n",
       "<g class=\"edge\" id=\"edge26\"><title>37-&gt;38</title>\n",
       "<path d=\"M1185.5,-190.907C1185.5,-182.649 1185.5,-173.864 1185.5,-165.302\" fill=\"none\" stroke=\"black\"/>\n",
       "<polygon fill=\"black\" points=\"1189,-165.021 1185.5,-155.021 1182,-165.021 1189,-165.021\" stroke=\"black\"/>\n",
       "</g>\n",
       "<!-- 41 -->\n",
       "<g class=\"node\" id=\"node30\"><title>41</title>\n",
       "<path d=\"M1410.5,-155C1410.5,-155 1288.5,-155 1288.5,-155 1282.5,-155 1276.5,-149 1276.5,-143 1276.5,-143 1276.5,-84 1276.5,-84 1276.5,-78 1282.5,-72 1288.5,-72 1288.5,-72 1410.5,-72 1410.5,-72 1416.5,-72 1422.5,-78 1422.5,-84 1422.5,-84 1422.5,-143 1422.5,-143 1422.5,-149 1416.5,-155 1410.5,-155\" fill=\"#399de5\" fill-opacity=\"0.870588\" stroke=\"black\"/>\n",
       "<text font-family=\"Helvetica,sans-Serif\" font-size=\"14.00\" text-anchor=\"start\" x=\"1284.5\" y=\"-139.8\">Dependents_1 ≤ 0.5</text>\n",
       "<text font-family=\"Helvetica,sans-Serif\" font-size=\"14.00\" text-anchor=\"start\" x=\"1299.5\" y=\"-124.8\">entropy = 0.515</text>\n",
       "<text font-family=\"Helvetica,sans-Serif\" font-size=\"14.00\" text-anchor=\"start\" x=\"1306\" y=\"-109.8\">samples = 87</text>\n",
       "<text font-family=\"Helvetica,sans-Serif\" font-size=\"14.00\" text-anchor=\"start\" x=\"1301\" y=\"-94.8\">value = [10, 77]</text>\n",
       "<text font-family=\"Helvetica,sans-Serif\" font-size=\"14.00\" text-anchor=\"start\" x=\"1320.5\" y=\"-79.8\">class = 1</text>\n",
       "</g>\n",
       "<!-- 37&#45;&gt;41 -->\n",
       "<g class=\"edge\" id=\"edge29\"><title>37-&gt;41</title>\n",
       "<path d=\"M1242.4,-190.907C1255.88,-181.288 1270.37,-170.953 1284.19,-161.09\" fill=\"none\" stroke=\"black\"/>\n",
       "<polygon fill=\"black\" points=\"1286.59,-163.678 1292.7,-155.021 1282.53,-157.979 1286.59,-163.678\" stroke=\"black\"/>\n",
       "</g>\n",
       "<!-- 39 -->\n",
       "<g class=\"node\" id=\"node28\"><title>39</title>\n",
       "<path d=\"M1156.5,-36C1156.5,-36 1126.5,-36 1126.5,-36 1120.5,-36 1114.5,-30 1114.5,-24 1114.5,-24 1114.5,-12 1114.5,-12 1114.5,-6 1120.5,-0 1126.5,-0 1126.5,-0 1156.5,-0 1156.5,-0 1162.5,-0 1168.5,-6 1168.5,-12 1168.5,-12 1168.5,-24 1168.5,-24 1168.5,-30 1162.5,-36 1156.5,-36\" fill=\"#c0c0c0\" stroke=\"black\"/>\n",
       "<text font-family=\"Helvetica,sans-Serif\" font-size=\"14.00\" text-anchor=\"middle\" x=\"1141.5\" y=\"-14.3\">(...)</text>\n",
       "</g>\n",
       "<!-- 38&#45;&gt;39 -->\n",
       "<g class=\"edge\" id=\"edge27\"><title>38-&gt;39</title>\n",
       "<path d=\"M1166.33,-71.7615C1162.13,-62.8481 1157.8,-53.6382 1153.95,-45.4571\" fill=\"none\" stroke=\"black\"/>\n",
       "<polygon fill=\"black\" points=\"1157.12,-43.963 1149.69,-36.4051 1150.78,-46.9436 1157.12,-43.963\" stroke=\"black\"/>\n",
       "</g>\n",
       "<!-- 40 -->\n",
       "<g class=\"node\" id=\"node29\"><title>40</title>\n",
       "<path d=\"M1228.5,-36C1228.5,-36 1198.5,-36 1198.5,-36 1192.5,-36 1186.5,-30 1186.5,-24 1186.5,-24 1186.5,-12 1186.5,-12 1186.5,-6 1192.5,-0 1198.5,-0 1198.5,-0 1228.5,-0 1228.5,-0 1234.5,-0 1240.5,-6 1240.5,-12 1240.5,-12 1240.5,-24 1240.5,-24 1240.5,-30 1234.5,-36 1228.5,-36\" fill=\"#c0c0c0\" stroke=\"black\"/>\n",
       "<text font-family=\"Helvetica,sans-Serif\" font-size=\"14.00\" text-anchor=\"middle\" x=\"1213.5\" y=\"-14.3\">(...)</text>\n",
       "</g>\n",
       "<!-- 38&#45;&gt;40 -->\n",
       "<g class=\"edge\" id=\"edge28\"><title>38-&gt;40</title>\n",
       "<path d=\"M1197.7,-71.7615C1200.31,-63.0419 1203.01,-54.0385 1205.42,-45.9921\" fill=\"none\" stroke=\"black\"/>\n",
       "<polygon fill=\"black\" points=\"1208.77,-46.9889 1208.29,-36.4051 1202.07,-44.9807 1208.77,-46.9889\" stroke=\"black\"/>\n",
       "</g>\n",
       "<!-- 42 -->\n",
       "<g class=\"node\" id=\"node31\"><title>42</title>\n",
       "<path d=\"M1328.5,-36C1328.5,-36 1298.5,-36 1298.5,-36 1292.5,-36 1286.5,-30 1286.5,-24 1286.5,-24 1286.5,-12 1286.5,-12 1286.5,-6 1292.5,-0 1298.5,-0 1298.5,-0 1328.5,-0 1328.5,-0 1334.5,-0 1340.5,-6 1340.5,-12 1340.5,-12 1340.5,-24 1340.5,-24 1340.5,-30 1334.5,-36 1328.5,-36\" fill=\"#c0c0c0\" stroke=\"black\"/>\n",
       "<text font-family=\"Helvetica,sans-Serif\" font-size=\"14.00\" text-anchor=\"middle\" x=\"1313.5\" y=\"-14.3\">(...)</text>\n",
       "</g>\n",
       "<!-- 41&#45;&gt;42 -->\n",
       "<g class=\"edge\" id=\"edge30\"><title>41-&gt;42</title>\n",
       "<path d=\"M1333.81,-71.7615C1330.46,-63.0419 1326.99,-54.0385 1323.89,-45.9921\" fill=\"none\" stroke=\"black\"/>\n",
       "<polygon fill=\"black\" points=\"1327.06,-44.4797 1320.2,-36.4051 1320.53,-46.9949 1327.06,-44.4797\" stroke=\"black\"/>\n",
       "</g>\n",
       "<!-- 43 -->\n",
       "<g class=\"node\" id=\"node32\"><title>43</title>\n",
       "<path d=\"M1400.5,-36C1400.5,-36 1370.5,-36 1370.5,-36 1364.5,-36 1358.5,-30 1358.5,-24 1358.5,-24 1358.5,-12 1358.5,-12 1358.5,-6 1364.5,-0 1370.5,-0 1370.5,-0 1400.5,-0 1400.5,-0 1406.5,-0 1412.5,-6 1412.5,-12 1412.5,-12 1412.5,-24 1412.5,-24 1412.5,-30 1406.5,-36 1400.5,-36\" fill=\"#c0c0c0\" stroke=\"black\"/>\n",
       "<text font-family=\"Helvetica,sans-Serif\" font-size=\"14.00\" text-anchor=\"middle\" x=\"1385.5\" y=\"-14.3\">(...)</text>\n",
       "</g>\n",
       "<!-- 41&#45;&gt;43 -->\n",
       "<g class=\"edge\" id=\"edge31\"><title>41-&gt;43</title>\n",
       "<path d=\"M1365.19,-71.7615C1368.54,-63.0419 1372.01,-54.0385 1375.11,-45.9921\" fill=\"none\" stroke=\"black\"/>\n",
       "<polygon fill=\"black\" points=\"1378.47,-46.9949 1378.8,-36.4051 1371.94,-44.4797 1378.47,-46.9949\" stroke=\"black\"/>\n",
       "</g>\n",
       "<!-- 45 -->\n",
       "<g class=\"node\" id=\"node34\"><title>45</title>\n",
       "<path d=\"M1815,-393C1815,-393 1654,-393 1654,-393 1648,-393 1642,-387 1642,-381 1642,-381 1642,-322 1642,-322 1642,-316 1648,-310 1654,-310 1654,-310 1815,-310 1815,-310 1821,-310 1827,-316 1827,-322 1827,-322 1827,-381 1827,-381 1827,-387 1821,-393 1815,-393\" fill=\"#e58139\" fill-opacity=\"0.949020\" stroke=\"black\"/>\n",
       "<text font-family=\"Helvetica,sans-Serif\" font-size=\"14.00\" text-anchor=\"start\" x=\"1650\" y=\"-377.8\">Property_Area_Rural ≤ 0.5</text>\n",
       "<text font-family=\"Helvetica,sans-Serif\" font-size=\"14.00\" text-anchor=\"start\" x=\"1684.5\" y=\"-362.8\">entropy = 0.281</text>\n",
       "<text font-family=\"Helvetica,sans-Serif\" font-size=\"14.00\" text-anchor=\"start\" x=\"1691\" y=\"-347.8\">samples = 41</text>\n",
       "<text font-family=\"Helvetica,sans-Serif\" font-size=\"14.00\" text-anchor=\"start\" x=\"1690\" y=\"-332.8\">value = [39, 2]</text>\n",
       "<text font-family=\"Helvetica,sans-Serif\" font-size=\"14.00\" text-anchor=\"start\" x=\"1705.5\" y=\"-317.8\">class = 0</text>\n",
       "</g>\n",
       "<!-- 44&#45;&gt;45 -->\n",
       "<g class=\"edge\" id=\"edge33\"><title>44-&gt;45</title>\n",
       "<path d=\"M1734.5,-428.907C1734.5,-420.649 1734.5,-411.864 1734.5,-403.302\" fill=\"none\" stroke=\"black\"/>\n",
       "<polygon fill=\"black\" points=\"1738,-403.021 1734.5,-393.021 1731,-403.021 1738,-403.021\" stroke=\"black\"/>\n",
       "</g>\n",
       "<!-- 54 -->\n",
       "<g class=\"node\" id=\"node43\"><title>54</title>\n",
       "<path d=\"M2086,-393C2086,-393 1889,-393 1889,-393 1883,-393 1877,-387 1877,-381 1877,-381 1877,-322 1877,-322 1877,-316 1883,-310 1889,-310 1889,-310 2086,-310 2086,-310 2092,-310 2098,-316 2098,-322 2098,-322 2098,-381 2098,-381 2098,-387 2092,-393 2086,-393\" fill=\"#e58139\" fill-opacity=\"0.831373\" stroke=\"black\"/>\n",
       "<text font-family=\"Helvetica,sans-Serif\" font-size=\"14.00\" text-anchor=\"start\" x=\"1885\" y=\"-377.8\">Property_Area_Semiurban ≤ 0.5</text>\n",
       "<text font-family=\"Helvetica,sans-Serif\" font-size=\"14.00\" text-anchor=\"start\" x=\"1937.5\" y=\"-362.8\">entropy = 0.592</text>\n",
       "<text font-family=\"Helvetica,sans-Serif\" font-size=\"14.00\" text-anchor=\"start\" x=\"1948\" y=\"-347.8\">samples = 7</text>\n",
       "<text font-family=\"Helvetica,sans-Serif\" font-size=\"14.00\" text-anchor=\"start\" x=\"1947\" y=\"-332.8\">value = [6, 1]</text>\n",
       "<text font-family=\"Helvetica,sans-Serif\" font-size=\"14.00\" text-anchor=\"start\" x=\"1958.5\" y=\"-317.8\">class = 0</text>\n",
       "</g>\n",
       "<!-- 44&#45;&gt;54 -->\n",
       "<g class=\"edge\" id=\"edge42\"><title>44-&gt;54</title>\n",
       "<path d=\"M1807.68,-435.659C1833.51,-423.714 1862.97,-410.09 1890.46,-397.375\" fill=\"none\" stroke=\"black\"/>\n",
       "<polygon fill=\"black\" points=\"1892.1,-400.476 1899.7,-393.102 1889.16,-394.122 1892.1,-400.476\" stroke=\"black\"/>\n",
       "</g>\n",
       "<!-- 46 -->\n",
       "<g class=\"node\" id=\"node35\"><title>46</title>\n",
       "<path d=\"M1757.5,-274C1757.5,-274 1649.5,-274 1649.5,-274 1643.5,-274 1637.5,-268 1637.5,-262 1637.5,-262 1637.5,-203 1637.5,-203 1637.5,-197 1643.5,-191 1649.5,-191 1649.5,-191 1757.5,-191 1757.5,-191 1763.5,-191 1769.5,-197 1769.5,-203 1769.5,-203 1769.5,-262 1769.5,-262 1769.5,-268 1763.5,-274 1757.5,-274\" fill=\"#e58139\" fill-opacity=\"0.960784\" stroke=\"black\"/>\n",
       "<text font-family=\"Helvetica,sans-Serif\" font-size=\"14.00\" text-anchor=\"start\" x=\"1645.5\" y=\"-258.8\">Married_Yes ≤ 0.5</text>\n",
       "<text font-family=\"Helvetica,sans-Serif\" font-size=\"14.00\" text-anchor=\"start\" x=\"1653.5\" y=\"-243.8\">entropy = 0.229</text>\n",
       "<text font-family=\"Helvetica,sans-Serif\" font-size=\"14.00\" text-anchor=\"start\" x=\"1660\" y=\"-228.8\">samples = 27</text>\n",
       "<text font-family=\"Helvetica,sans-Serif\" font-size=\"14.00\" text-anchor=\"start\" x=\"1659\" y=\"-213.8\">value = [26, 1]</text>\n",
       "<text font-family=\"Helvetica,sans-Serif\" font-size=\"14.00\" text-anchor=\"start\" x=\"1674.5\" y=\"-198.8\">class = 0</text>\n",
       "</g>\n",
       "<!-- 45&#45;&gt;46 -->\n",
       "<g class=\"edge\" id=\"edge34\"><title>45-&gt;46</title>\n",
       "<path d=\"M1723.74,-309.907C1721.51,-301.468 1719.13,-292.477 1716.81,-283.738\" fill=\"none\" stroke=\"black\"/>\n",
       "<polygon fill=\"black\" points=\"1720.18,-282.791 1714.24,-274.021 1713.41,-284.584 1720.18,-282.791\" stroke=\"black\"/>\n",
       "</g>\n",
       "<!-- 51 -->\n",
       "<g class=\"node\" id=\"node40\"><title>51</title>\n",
       "<path d=\"M1907.5,-274C1907.5,-274 1799.5,-274 1799.5,-274 1793.5,-274 1787.5,-268 1787.5,-262 1787.5,-262 1787.5,-203 1787.5,-203 1787.5,-197 1793.5,-191 1799.5,-191 1799.5,-191 1907.5,-191 1907.5,-191 1913.5,-191 1919.5,-197 1919.5,-203 1919.5,-203 1919.5,-262 1919.5,-262 1919.5,-268 1913.5,-274 1907.5,-274\" fill=\"#e58139\" fill-opacity=\"0.921569\" stroke=\"black\"/>\n",
       "<text font-family=\"Helvetica,sans-Serif\" font-size=\"14.00\" text-anchor=\"start\" x=\"1795.5\" y=\"-258.8\">Married_Yes ≤ 0.5</text>\n",
       "<text font-family=\"Helvetica,sans-Serif\" font-size=\"14.00\" text-anchor=\"start\" x=\"1803.5\" y=\"-243.8\">entropy = 0.371</text>\n",
       "<text font-family=\"Helvetica,sans-Serif\" font-size=\"14.00\" text-anchor=\"start\" x=\"1810\" y=\"-228.8\">samples = 14</text>\n",
       "<text font-family=\"Helvetica,sans-Serif\" font-size=\"14.00\" text-anchor=\"start\" x=\"1809\" y=\"-213.8\">value = [13, 1]</text>\n",
       "<text font-family=\"Helvetica,sans-Serif\" font-size=\"14.00\" text-anchor=\"start\" x=\"1824.5\" y=\"-198.8\">class = 0</text>\n",
       "</g>\n",
       "<!-- 45&#45;&gt;51 -->\n",
       "<g class=\"edge\" id=\"edge39\"><title>45-&gt;51</title>\n",
       "<path d=\"M1775.79,-309.907C1785.2,-300.651 1795.29,-290.732 1804.98,-281.209\" fill=\"none\" stroke=\"black\"/>\n",
       "<polygon fill=\"black\" points=\"1807.61,-283.527 1812.29,-274.021 1802.7,-278.536 1807.61,-283.527\" stroke=\"black\"/>\n",
       "</g>\n",
       "<!-- 47 -->\n",
       "<g class=\"node\" id=\"node36\"><title>47</title>\n",
       "<path d=\"M1650,-155C1650,-155 1453,-155 1453,-155 1447,-155 1441,-149 1441,-143 1441,-143 1441,-84 1441,-84 1441,-78 1447,-72 1453,-72 1453,-72 1650,-72 1650,-72 1656,-72 1662,-78 1662,-84 1662,-84 1662,-143 1662,-143 1662,-149 1656,-155 1650,-155\" fill=\"#e58139\" fill-opacity=\"0.921569\" stroke=\"black\"/>\n",
       "<text font-family=\"Helvetica,sans-Serif\" font-size=\"14.00\" text-anchor=\"start\" x=\"1449\" y=\"-139.8\">Property_Area_Semiurban ≤ 0.5</text>\n",
       "<text font-family=\"Helvetica,sans-Serif\" font-size=\"14.00\" text-anchor=\"start\" x=\"1501.5\" y=\"-124.8\">entropy = 0.371</text>\n",
       "<text font-family=\"Helvetica,sans-Serif\" font-size=\"14.00\" text-anchor=\"start\" x=\"1508\" y=\"-109.8\">samples = 14</text>\n",
       "<text font-family=\"Helvetica,sans-Serif\" font-size=\"14.00\" text-anchor=\"start\" x=\"1507\" y=\"-94.8\">value = [13, 1]</text>\n",
       "<text font-family=\"Helvetica,sans-Serif\" font-size=\"14.00\" text-anchor=\"start\" x=\"1522.5\" y=\"-79.8\">class = 0</text>\n",
       "</g>\n",
       "<!-- 46&#45;&gt;47 -->\n",
       "<g class=\"edge\" id=\"edge35\"><title>46-&gt;47</title>\n",
       "<path d=\"M1650.76,-190.907C1638.38,-181.379 1625.09,-171.148 1612.39,-161.37\" fill=\"none\" stroke=\"black\"/>\n",
       "<polygon fill=\"black\" points=\"1614.2,-158.347 1604.14,-155.021 1609.93,-163.894 1614.2,-158.347\" stroke=\"black\"/>\n",
       "</g>\n",
       "<!-- 50 -->\n",
       "<g class=\"node\" id=\"node39\"><title>50</title>\n",
       "<path d=\"M1773,-147.5C1773,-147.5 1692,-147.5 1692,-147.5 1686,-147.5 1680,-141.5 1680,-135.5 1680,-135.5 1680,-91.5 1680,-91.5 1680,-85.5 1686,-79.5 1692,-79.5 1692,-79.5 1773,-79.5 1773,-79.5 1779,-79.5 1785,-85.5 1785,-91.5 1785,-91.5 1785,-135.5 1785,-135.5 1785,-141.5 1779,-147.5 1773,-147.5\" fill=\"#e58139\" stroke=\"black\"/>\n",
       "<text font-family=\"Helvetica,sans-Serif\" font-size=\"14.00\" text-anchor=\"start\" x=\"1690.5\" y=\"-132.3\">entropy = 0.0</text>\n",
       "<text font-family=\"Helvetica,sans-Serif\" font-size=\"14.00\" text-anchor=\"start\" x=\"1689\" y=\"-117.3\">samples = 13</text>\n",
       "<text font-family=\"Helvetica,sans-Serif\" font-size=\"14.00\" text-anchor=\"start\" x=\"1688\" y=\"-102.3\">value = [13, 0]</text>\n",
       "<text font-family=\"Helvetica,sans-Serif\" font-size=\"14.00\" text-anchor=\"start\" x=\"1703.5\" y=\"-87.3\">class = 0</text>\n",
       "</g>\n",
       "<!-- 46&#45;&gt;50 -->\n",
       "<g class=\"edge\" id=\"edge38\"><title>46-&gt;50</title>\n",
       "<path d=\"M1713.56,-190.907C1716.24,-180.094 1719.15,-168.376 1721.86,-157.441\" fill=\"none\" stroke=\"black\"/>\n",
       "<polygon fill=\"black\" points=\"1725.27,-158.215 1724.28,-147.667 1718.48,-156.531 1725.27,-158.215\" stroke=\"black\"/>\n",
       "</g>\n",
       "<!-- 48 -->\n",
       "<g class=\"node\" id=\"node37\"><title>48</title>\n",
       "<path d=\"M1530.5,-36C1530.5,-36 1500.5,-36 1500.5,-36 1494.5,-36 1488.5,-30 1488.5,-24 1488.5,-24 1488.5,-12 1488.5,-12 1488.5,-6 1494.5,-0 1500.5,-0 1500.5,-0 1530.5,-0 1530.5,-0 1536.5,-0 1542.5,-6 1542.5,-12 1542.5,-12 1542.5,-24 1542.5,-24 1542.5,-30 1536.5,-36 1530.5,-36\" fill=\"#c0c0c0\" stroke=\"black\"/>\n",
       "<text font-family=\"Helvetica,sans-Serif\" font-size=\"14.00\" text-anchor=\"middle\" x=\"1515.5\" y=\"-14.3\">(...)</text>\n",
       "</g>\n",
       "<!-- 47&#45;&gt;48 -->\n",
       "<g class=\"edge\" id=\"edge36\"><title>47-&gt;48</title>\n",
       "<path d=\"M1535.81,-71.7615C1532.46,-63.0419 1528.99,-54.0385 1525.89,-45.9921\" fill=\"none\" stroke=\"black\"/>\n",
       "<polygon fill=\"black\" points=\"1529.06,-44.4797 1522.2,-36.4051 1522.53,-46.9949 1529.06,-44.4797\" stroke=\"black\"/>\n",
       "</g>\n",
       "<!-- 49 -->\n",
       "<g class=\"node\" id=\"node38\"><title>49</title>\n",
       "<path d=\"M1602.5,-36C1602.5,-36 1572.5,-36 1572.5,-36 1566.5,-36 1560.5,-30 1560.5,-24 1560.5,-24 1560.5,-12 1560.5,-12 1560.5,-6 1566.5,-0 1572.5,-0 1572.5,-0 1602.5,-0 1602.5,-0 1608.5,-0 1614.5,-6 1614.5,-12 1614.5,-12 1614.5,-24 1614.5,-24 1614.5,-30 1608.5,-36 1602.5,-36\" fill=\"#c0c0c0\" stroke=\"black\"/>\n",
       "<text font-family=\"Helvetica,sans-Serif\" font-size=\"14.00\" text-anchor=\"middle\" x=\"1587.5\" y=\"-14.3\">(...)</text>\n",
       "</g>\n",
       "<!-- 47&#45;&gt;49 -->\n",
       "<g class=\"edge\" id=\"edge37\"><title>47-&gt;49</title>\n",
       "<path d=\"M1567.19,-71.7615C1570.54,-63.0419 1574.01,-54.0385 1577.11,-45.9921\" fill=\"none\" stroke=\"black\"/>\n",
       "<polygon fill=\"black\" points=\"1580.47,-46.9949 1580.8,-36.4051 1573.94,-44.4797 1580.47,-46.9949\" stroke=\"black\"/>\n",
       "</g>\n",
       "<!-- 52 -->\n",
       "<g class=\"node\" id=\"node41\"><title>52</title>\n",
       "<path d=\"M1891.5,-147.5C1891.5,-147.5 1815.5,-147.5 1815.5,-147.5 1809.5,-147.5 1803.5,-141.5 1803.5,-135.5 1803.5,-135.5 1803.5,-91.5 1803.5,-91.5 1803.5,-85.5 1809.5,-79.5 1815.5,-79.5 1815.5,-79.5 1891.5,-79.5 1891.5,-79.5 1897.5,-79.5 1903.5,-85.5 1903.5,-91.5 1903.5,-91.5 1903.5,-135.5 1903.5,-135.5 1903.5,-141.5 1897.5,-147.5 1891.5,-147.5\" fill=\"#e58139\" stroke=\"black\"/>\n",
       "<text font-family=\"Helvetica,sans-Serif\" font-size=\"14.00\" text-anchor=\"start\" x=\"1811.5\" y=\"-132.3\">entropy = 0.0</text>\n",
       "<text font-family=\"Helvetica,sans-Serif\" font-size=\"14.00\" text-anchor=\"start\" x=\"1814\" y=\"-117.3\">samples = 3</text>\n",
       "<text font-family=\"Helvetica,sans-Serif\" font-size=\"14.00\" text-anchor=\"start\" x=\"1813\" y=\"-102.3\">value = [3, 0]</text>\n",
       "<text font-family=\"Helvetica,sans-Serif\" font-size=\"14.00\" text-anchor=\"start\" x=\"1824.5\" y=\"-87.3\">class = 0</text>\n",
       "</g>\n",
       "<!-- 51&#45;&gt;52 -->\n",
       "<g class=\"edge\" id=\"edge40\"><title>51-&gt;52</title>\n",
       "<path d=\"M1853.5,-190.907C1853.5,-180.204 1853.5,-168.615 1853.5,-157.776\" fill=\"none\" stroke=\"black\"/>\n",
       "<polygon fill=\"black\" points=\"1857,-157.667 1853.5,-147.667 1850,-157.667 1857,-157.667\" stroke=\"black\"/>\n",
       "</g>\n",
       "<!-- 53 -->\n",
       "<g class=\"node\" id=\"node42\"><title>53</title>\n",
       "<path d=\"M2025.5,-147.5C2025.5,-147.5 1933.5,-147.5 1933.5,-147.5 1927.5,-147.5 1921.5,-141.5 1921.5,-135.5 1921.5,-135.5 1921.5,-91.5 1921.5,-91.5 1921.5,-85.5 1927.5,-79.5 1933.5,-79.5 1933.5,-79.5 2025.5,-79.5 2025.5,-79.5 2031.5,-79.5 2037.5,-85.5 2037.5,-91.5 2037.5,-91.5 2037.5,-135.5 2037.5,-135.5 2037.5,-141.5 2031.5,-147.5 2025.5,-147.5\" fill=\"#e58139\" fill-opacity=\"0.901961\" stroke=\"black\"/>\n",
       "<text font-family=\"Helvetica,sans-Serif\" font-size=\"14.00\" text-anchor=\"start\" x=\"1929.5\" y=\"-132.3\">entropy = 0.439</text>\n",
       "<text font-family=\"Helvetica,sans-Serif\" font-size=\"14.00\" text-anchor=\"start\" x=\"1936\" y=\"-117.3\">samples = 11</text>\n",
       "<text font-family=\"Helvetica,sans-Serif\" font-size=\"14.00\" text-anchor=\"start\" x=\"1935\" y=\"-102.3\">value = [10, 1]</text>\n",
       "<text font-family=\"Helvetica,sans-Serif\" font-size=\"14.00\" text-anchor=\"start\" x=\"1950.5\" y=\"-87.3\">class = 0</text>\n",
       "</g>\n",
       "<!-- 51&#45;&gt;53 -->\n",
       "<g class=\"edge\" id=\"edge41\"><title>51-&gt;53</title>\n",
       "<path d=\"M1897.22,-190.907C1909.81,-179.211 1923.55,-166.457 1936.12,-154.78\" fill=\"none\" stroke=\"black\"/>\n",
       "<polygon fill=\"black\" points=\"1938.84,-157.036 1943.78,-147.667 1934.07,-151.907 1938.84,-157.036\" stroke=\"black\"/>\n",
       "</g>\n",
       "<!-- 55 -->\n",
       "<g class=\"node\" id=\"node44\"><title>55</title>\n",
       "<path d=\"M2025.5,-266.5C2025.5,-266.5 1949.5,-266.5 1949.5,-266.5 1943.5,-266.5 1937.5,-260.5 1937.5,-254.5 1937.5,-254.5 1937.5,-210.5 1937.5,-210.5 1937.5,-204.5 1943.5,-198.5 1949.5,-198.5 1949.5,-198.5 2025.5,-198.5 2025.5,-198.5 2031.5,-198.5 2037.5,-204.5 2037.5,-210.5 2037.5,-210.5 2037.5,-254.5 2037.5,-254.5 2037.5,-260.5 2031.5,-266.5 2025.5,-266.5\" fill=\"#e58139\" stroke=\"black\"/>\n",
       "<text font-family=\"Helvetica,sans-Serif\" font-size=\"14.00\" text-anchor=\"start\" x=\"1945.5\" y=\"-251.3\">entropy = 0.0</text>\n",
       "<text font-family=\"Helvetica,sans-Serif\" font-size=\"14.00\" text-anchor=\"start\" x=\"1948\" y=\"-236.3\">samples = 4</text>\n",
       "<text font-family=\"Helvetica,sans-Serif\" font-size=\"14.00\" text-anchor=\"start\" x=\"1947\" y=\"-221.3\">value = [4, 0]</text>\n",
       "<text font-family=\"Helvetica,sans-Serif\" font-size=\"14.00\" text-anchor=\"start\" x=\"1958.5\" y=\"-206.3\">class = 0</text>\n",
       "</g>\n",
       "<!-- 54&#45;&gt;55 -->\n",
       "<g class=\"edge\" id=\"edge43\"><title>54-&gt;55</title>\n",
       "<path d=\"M1987.5,-309.907C1987.5,-299.204 1987.5,-287.615 1987.5,-276.776\" fill=\"none\" stroke=\"black\"/>\n",
       "<polygon fill=\"black\" points=\"1991,-276.667 1987.5,-266.667 1984,-276.667 1991,-276.667\" stroke=\"black\"/>\n",
       "</g>\n",
       "<!-- 56 -->\n",
       "<g class=\"node\" id=\"node45\"><title>56</title>\n",
       "<path d=\"M2159.5,-266.5C2159.5,-266.5 2067.5,-266.5 2067.5,-266.5 2061.5,-266.5 2055.5,-260.5 2055.5,-254.5 2055.5,-254.5 2055.5,-210.5 2055.5,-210.5 2055.5,-204.5 2061.5,-198.5 2067.5,-198.5 2067.5,-198.5 2159.5,-198.5 2159.5,-198.5 2165.5,-198.5 2171.5,-204.5 2171.5,-210.5 2171.5,-210.5 2171.5,-254.5 2171.5,-254.5 2171.5,-260.5 2165.5,-266.5 2159.5,-266.5\" fill=\"#e58139\" fill-opacity=\"0.498039\" stroke=\"black\"/>\n",
       "<text font-family=\"Helvetica,sans-Serif\" font-size=\"14.00\" text-anchor=\"start\" x=\"2063.5\" y=\"-251.3\">entropy = 0.918</text>\n",
       "<text font-family=\"Helvetica,sans-Serif\" font-size=\"14.00\" text-anchor=\"start\" x=\"2074\" y=\"-236.3\">samples = 3</text>\n",
       "<text font-family=\"Helvetica,sans-Serif\" font-size=\"14.00\" text-anchor=\"start\" x=\"2073\" y=\"-221.3\">value = [2, 1]</text>\n",
       "<text font-family=\"Helvetica,sans-Serif\" font-size=\"14.00\" text-anchor=\"start\" x=\"2084.5\" y=\"-206.3\">class = 0</text>\n",
       "</g>\n",
       "<!-- 54&#45;&gt;56 -->\n",
       "<g class=\"edge\" id=\"edge44\"><title>54-&gt;56</title>\n",
       "<path d=\"M2031.22,-309.907C2043.81,-298.211 2057.55,-285.457 2070.12,-273.78\" fill=\"none\" stroke=\"black\"/>\n",
       "<polygon fill=\"black\" points=\"2072.84,-276.036 2077.78,-266.667 2068.07,-270.907 2072.84,-276.036\" stroke=\"black\"/>\n",
       "</g>\n",
       "</g>\n",
       "</svg>"
      ],
      "text/plain": [
       "<IPython.core.display.SVG object>"
      ]
     },
     "execution_count": 64,
     "metadata": {},
     "output_type": "execute_result"
    }
   ],
   "source": [
    "from IPython.display import SVG\n",
    "SVG(graph.pipe(format='svg'))"
   ]
  },
  {
   "cell_type": "markdown",
   "metadata": {},
   "source": [
    "# Give the data another chance to solve ^_^"
   ]
  },
  {
   "cell_type": "markdown",
   "metadata": {},
   "source": [
    "### Dropping is only advised to be used if missing values are few (say 0.01–0.5% of our data). Percent is just a rule of thumb."
   ]
  },
  {
   "cell_type": "code",
   "execution_count": 4,
   "metadata": {},
   "outputs": [
    {
     "data": {
      "text/plain": [
       "Index(['Loan_ID', 'Gender', 'Married', 'Dependents', 'Education',\n",
       "       'Self_Employed', 'ApplicantIncome', 'CoapplicantIncome', 'LoanAmount',\n",
       "       'Loan_Amount_Term', 'Credit_History', 'Property_Area', 'Loan_Status'],\n",
       "      dtype='object')"
      ]
     },
     "execution_count": 4,
     "metadata": {},
     "output_type": "execute_result"
    }
   ],
   "source": [
    "loanDf.columns"
   ]
  },
  {
   "cell_type": "code",
   "execution_count": 5,
   "metadata": {},
   "outputs": [
    {
     "name": "stdout",
     "output_type": "stream",
     "text": [
      "<class 'pandas.core.frame.DataFrame'>\n",
      "RangeIndex: 614 entries, 0 to 613\n",
      "Data columns (total 13 columns):\n",
      "Loan_ID              614 non-null object\n",
      "Gender               601 non-null object\n",
      "Married              611 non-null object\n",
      "Dependents           599 non-null object\n",
      "Education            614 non-null object\n",
      "Self_Employed        582 non-null object\n",
      "ApplicantIncome      614 non-null int64\n",
      "CoapplicantIncome    614 non-null float64\n",
      "LoanAmount           592 non-null float64\n",
      "Loan_Amount_Term     600 non-null float64\n",
      "Credit_History       564 non-null float64\n",
      "Property_Area        614 non-null object\n",
      "Loan_Status          614 non-null object\n",
      "dtypes: float64(4), int64(1), object(8)\n",
      "memory usage: 62.4+ KB\n"
     ]
    }
   ],
   "source": [
    "loanDf.info()"
   ]
  },
  {
   "cell_type": "code",
   "execution_count": 6,
   "metadata": {},
   "outputs": [
    {
     "data": {
      "text/html": [
       "<div>\n",
       "<style>\n",
       "    .dataframe thead tr:only-child th {\n",
       "        text-align: right;\n",
       "    }\n",
       "\n",
       "    .dataframe thead th {\n",
       "        text-align: left;\n",
       "    }\n",
       "\n",
       "    .dataframe tbody tr th {\n",
       "        vertical-align: top;\n",
       "    }\n",
       "</style>\n",
       "<table border=\"1\" class=\"dataframe\">\n",
       "  <thead>\n",
       "    <tr style=\"text-align: right;\">\n",
       "      <th></th>\n",
       "      <th>ApplicantIncome</th>\n",
       "      <th>CoapplicantIncome</th>\n",
       "      <th>LoanAmount</th>\n",
       "      <th>Loan_Amount_Term</th>\n",
       "      <th>Credit_History</th>\n",
       "    </tr>\n",
       "  </thead>\n",
       "  <tbody>\n",
       "    <tr>\n",
       "      <th>count</th>\n",
       "      <td>614.000000</td>\n",
       "      <td>614.000000</td>\n",
       "      <td>592.000000</td>\n",
       "      <td>600.00000</td>\n",
       "      <td>564.000000</td>\n",
       "    </tr>\n",
       "    <tr>\n",
       "      <th>mean</th>\n",
       "      <td>5403.459283</td>\n",
       "      <td>1621.245798</td>\n",
       "      <td>146.412162</td>\n",
       "      <td>342.00000</td>\n",
       "      <td>0.842199</td>\n",
       "    </tr>\n",
       "    <tr>\n",
       "      <th>std</th>\n",
       "      <td>6109.041673</td>\n",
       "      <td>2926.248369</td>\n",
       "      <td>85.587325</td>\n",
       "      <td>65.12041</td>\n",
       "      <td>0.364878</td>\n",
       "    </tr>\n",
       "    <tr>\n",
       "      <th>min</th>\n",
       "      <td>150.000000</td>\n",
       "      <td>0.000000</td>\n",
       "      <td>9.000000</td>\n",
       "      <td>12.00000</td>\n",
       "      <td>0.000000</td>\n",
       "    </tr>\n",
       "    <tr>\n",
       "      <th>25%</th>\n",
       "      <td>2877.500000</td>\n",
       "      <td>0.000000</td>\n",
       "      <td>100.000000</td>\n",
       "      <td>360.00000</td>\n",
       "      <td>1.000000</td>\n",
       "    </tr>\n",
       "    <tr>\n",
       "      <th>50%</th>\n",
       "      <td>3812.500000</td>\n",
       "      <td>1188.500000</td>\n",
       "      <td>128.000000</td>\n",
       "      <td>360.00000</td>\n",
       "      <td>1.000000</td>\n",
       "    </tr>\n",
       "    <tr>\n",
       "      <th>75%</th>\n",
       "      <td>5795.000000</td>\n",
       "      <td>2297.250000</td>\n",
       "      <td>168.000000</td>\n",
       "      <td>360.00000</td>\n",
       "      <td>1.000000</td>\n",
       "    </tr>\n",
       "    <tr>\n",
       "      <th>max</th>\n",
       "      <td>81000.000000</td>\n",
       "      <td>41667.000000</td>\n",
       "      <td>700.000000</td>\n",
       "      <td>480.00000</td>\n",
       "      <td>1.000000</td>\n",
       "    </tr>\n",
       "  </tbody>\n",
       "</table>\n",
       "</div>"
      ],
      "text/plain": [
       "       ApplicantIncome  CoapplicantIncome  LoanAmount  Loan_Amount_Term  \\\n",
       "count       614.000000         614.000000  592.000000         600.00000   \n",
       "mean       5403.459283        1621.245798  146.412162         342.00000   \n",
       "std        6109.041673        2926.248369   85.587325          65.12041   \n",
       "min         150.000000           0.000000    9.000000          12.00000   \n",
       "25%        2877.500000           0.000000  100.000000         360.00000   \n",
       "50%        3812.500000        1188.500000  128.000000         360.00000   \n",
       "75%        5795.000000        2297.250000  168.000000         360.00000   \n",
       "max       81000.000000       41667.000000  700.000000         480.00000   \n",
       "\n",
       "       Credit_History  \n",
       "count      564.000000  \n",
       "mean         0.842199  \n",
       "std          0.364878  \n",
       "min          0.000000  \n",
       "25%          1.000000  \n",
       "50%          1.000000  \n",
       "75%          1.000000  \n",
       "max          1.000000  "
      ]
     },
     "execution_count": 6,
     "metadata": {},
     "output_type": "execute_result"
    }
   ],
   "source": [
    "loanDf.describe()"
   ]
  },
  {
   "cell_type": "code",
   "execution_count": 23,
   "metadata": {},
   "outputs": [
    {
     "data": {
      "text/plain": [
       "Credit_History_1.0         0\n",
       "Gender_Male                0\n",
       "CoapplicantIncome          0\n",
       "LoanAmount                 0\n",
       "Loan_Amount_Term           0\n",
       "Dependents_0               0\n",
       "Dependents_1               0\n",
       "Dependents_2               0\n",
       "Dependents_3+              0\n",
       "Gender_Female              0\n",
       "Married_No                 0\n",
       "Credit_History_0.0         0\n",
       "Married_Yes                0\n",
       "Education_Graduate         0\n",
       "Education_Not Graduate     0\n",
       "Self_Employed_No           0\n",
       "Self_Employed_Yes          0\n",
       "Property_Area_Rural        0\n",
       "Property_Area_Semiurban    0\n",
       "Property_Area_Urban        0\n",
       "ApplicantIncome            0\n",
       "dtype: int64"
      ]
     },
     "execution_count": 23,
     "metadata": {},
     "output_type": "execute_result"
    }
   ],
   "source": [
    "data_X.isnull().sum().sort_values(ascending=False)"
   ]
  },
  {
   "cell_type": "code",
   "execution_count": 19,
   "metadata": {},
   "outputs": [
    {
     "data": {
      "text/plain": [
       "0.08143322475570032"
      ]
     },
     "execution_count": 19,
     "metadata": {},
     "output_type": "execute_result"
    }
   ],
   "source": [
    "50/614"
   ]
  },
  {
   "cell_type": "markdown",
   "metadata": {},
   "source": [
    "## .08 % Missing Percetage"
   ]
  },
  {
   "cell_type": "code",
   "execution_count": 25,
   "metadata": {},
   "outputs": [
    {
     "data": {
      "text/html": [
       "<div>\n",
       "<style>\n",
       "    .dataframe thead tr:only-child th {\n",
       "        text-align: right;\n",
       "    }\n",
       "\n",
       "    .dataframe thead th {\n",
       "        text-align: left;\n",
       "    }\n",
       "\n",
       "    .dataframe tbody tr th {\n",
       "        vertical-align: top;\n",
       "    }\n",
       "</style>\n",
       "<table border=\"1\" class=\"dataframe\">\n",
       "  <thead>\n",
       "    <tr style=\"text-align: right;\">\n",
       "      <th></th>\n",
       "      <th>Loan_ID</th>\n",
       "      <th>Gender</th>\n",
       "      <th>Married</th>\n",
       "      <th>Dependents</th>\n",
       "      <th>Education</th>\n",
       "      <th>Self_Employed</th>\n",
       "      <th>ApplicantIncome</th>\n",
       "      <th>CoapplicantIncome</th>\n",
       "      <th>LoanAmount</th>\n",
       "      <th>Loan_Amount_Term</th>\n",
       "      <th>Credit_History</th>\n",
       "      <th>Property_Area</th>\n",
       "      <th>Loan_Status</th>\n",
       "    </tr>\n",
       "  </thead>\n",
       "  <tbody>\n",
       "    <tr>\n",
       "      <th>0</th>\n",
       "      <td>LP001002</td>\n",
       "      <td>Male</td>\n",
       "      <td>No</td>\n",
       "      <td>0</td>\n",
       "      <td>Graduate</td>\n",
       "      <td>No</td>\n",
       "      <td>5849</td>\n",
       "      <td>0.0</td>\n",
       "      <td>NaN</td>\n",
       "      <td>360.0</td>\n",
       "      <td>1.0</td>\n",
       "      <td>Urban</td>\n",
       "      <td>Y</td>\n",
       "    </tr>\n",
       "    <tr>\n",
       "      <th>1</th>\n",
       "      <td>LP001003</td>\n",
       "      <td>Male</td>\n",
       "      <td>Yes</td>\n",
       "      <td>1</td>\n",
       "      <td>Graduate</td>\n",
       "      <td>No</td>\n",
       "      <td>4583</td>\n",
       "      <td>1508.0</td>\n",
       "      <td>128.0</td>\n",
       "      <td>360.0</td>\n",
       "      <td>1.0</td>\n",
       "      <td>Rural</td>\n",
       "      <td>N</td>\n",
       "    </tr>\n",
       "    <tr>\n",
       "      <th>2</th>\n",
       "      <td>LP001005</td>\n",
       "      <td>Male</td>\n",
       "      <td>Yes</td>\n",
       "      <td>0</td>\n",
       "      <td>Graduate</td>\n",
       "      <td>Yes</td>\n",
       "      <td>3000</td>\n",
       "      <td>0.0</td>\n",
       "      <td>66.0</td>\n",
       "      <td>360.0</td>\n",
       "      <td>1.0</td>\n",
       "      <td>Urban</td>\n",
       "      <td>Y</td>\n",
       "    </tr>\n",
       "    <tr>\n",
       "      <th>3</th>\n",
       "      <td>LP001006</td>\n",
       "      <td>Male</td>\n",
       "      <td>Yes</td>\n",
       "      <td>0</td>\n",
       "      <td>Not Graduate</td>\n",
       "      <td>No</td>\n",
       "      <td>2583</td>\n",
       "      <td>2358.0</td>\n",
       "      <td>120.0</td>\n",
       "      <td>360.0</td>\n",
       "      <td>1.0</td>\n",
       "      <td>Urban</td>\n",
       "      <td>Y</td>\n",
       "    </tr>\n",
       "    <tr>\n",
       "      <th>4</th>\n",
       "      <td>LP001008</td>\n",
       "      <td>Male</td>\n",
       "      <td>No</td>\n",
       "      <td>0</td>\n",
       "      <td>Graduate</td>\n",
       "      <td>No</td>\n",
       "      <td>6000</td>\n",
       "      <td>0.0</td>\n",
       "      <td>141.0</td>\n",
       "      <td>360.0</td>\n",
       "      <td>1.0</td>\n",
       "      <td>Urban</td>\n",
       "      <td>Y</td>\n",
       "    </tr>\n",
       "  </tbody>\n",
       "</table>\n",
       "</div>"
      ],
      "text/plain": [
       "    Loan_ID Gender Married Dependents     Education Self_Employed  \\\n",
       "0  LP001002   Male      No          0      Graduate            No   \n",
       "1  LP001003   Male     Yes          1      Graduate            No   \n",
       "2  LP001005   Male     Yes          0      Graduate           Yes   \n",
       "3  LP001006   Male     Yes          0  Not Graduate            No   \n",
       "4  LP001008   Male      No          0      Graduate            No   \n",
       "\n",
       "   ApplicantIncome  CoapplicantIncome  LoanAmount  Loan_Amount_Term  \\\n",
       "0             5849                0.0         NaN             360.0   \n",
       "1             4583             1508.0       128.0             360.0   \n",
       "2             3000                0.0        66.0             360.0   \n",
       "3             2583             2358.0       120.0             360.0   \n",
       "4             6000                0.0       141.0             360.0   \n",
       "\n",
       "   Credit_History Property_Area Loan_Status  \n",
       "0             1.0         Urban           Y  \n",
       "1             1.0         Rural           N  \n",
       "2             1.0         Urban           Y  \n",
       "3             1.0         Urban           Y  \n",
       "4             1.0         Urban           Y  "
      ]
     },
     "execution_count": 25,
     "metadata": {},
     "output_type": "execute_result"
    }
   ],
   "source": [
    "loanDf.head()"
   ]
  },
  {
   "cell_type": "code",
   "execution_count": 34,
   "metadata": {},
   "outputs": [],
   "source": [
    "from sklearn.preprocessing import Imputer\n",
    "imp = Imputer(missing_values='NaN', strategy='mean', axis=0)\n",
    "imp.fit(loanDf[['ApplicantIncome','CoapplicantIncome','LoanAmount','Loan_Amount_Term']])\n",
    "loanDfIm= imp.transform(loanDf[['ApplicantIncome','CoapplicantIncome','LoanAmount','Loan_Amount_Term']])"
   ]
  },
  {
   "cell_type": "code",
   "execution_count": 36,
   "metadata": {},
   "outputs": [],
   "source": [
    "loanDfIm=pd.DataFrame(data=loanDfIm,\n",
    "             columns=['ApplicantIncome_imp','CoapplicantIncome_imp','LoanAmount_imp','Loan_Amount_Term_imp']) \n",
    "loanDf_withoutNan=loanDfIm.join(loanDf)"
   ]
  },
  {
   "cell_type": "code",
   "execution_count": 43,
   "metadata": {},
   "outputs": [
    {
     "data": {
      "text/plain": [
       "Male      489\n",
       "Female    112\n",
       "Name: Gender, dtype: int64"
      ]
     },
     "execution_count": 43,
     "metadata": {},
     "output_type": "execute_result"
    }
   ],
   "source": [
    "loanDf[\"Gender\"].value_counts()"
   ]
  },
  {
   "cell_type": "markdown",
   "metadata": {},
   "source": [
    "### This Method for handling both numarical and missing values ^_^ , pretty H,"
   ]
  },
  {
   "cell_type": "code",
   "execution_count": 44,
   "metadata": {},
   "outputs": [],
   "source": [
    "from sklearn.base import TransformerMixin\n",
    "class DataFrameImputer(TransformerMixin):\n",
    "\n",
    "    def __init__(self):\n",
    "        \"\"\"Impute missing values.\n",
    "\n",
    "        Columns of dtype object are imputed with the most frequent value \n",
    "        in column.\n",
    "\n",
    "        Columns of other types are imputed with mean of column.\n",
    "\n",
    "        \"\"\"\n",
    "    def fit(self, X, y=None):\n",
    "\n",
    "        self.fill = pd.Series([X[c].value_counts().index[0]\n",
    "            if X[c].dtype == np.dtype('O') else X[c].median() for c in X],\n",
    "            index=X.columns)\n",
    "\n",
    "        return self\n",
    "\n",
    "    def transform(self, X, y=None):\n",
    "        return X.fillna(self.fill)\n",
    "\n",
    "    \n",
    "loanDf_imp = DataFrameImputer().fit_transform(loanDf)"
   ]
  },
  {
   "cell_type": "code",
   "execution_count": 49,
   "metadata": {},
   "outputs": [
    {
     "data": {
      "text/plain": [
       "Loan_Status          0\n",
       "Property_Area        0\n",
       "Credit_History       0\n",
       "Loan_Amount_Term     0\n",
       "LoanAmount           0\n",
       "CoapplicantIncome    0\n",
       "ApplicantIncome      0\n",
       "Self_Employed        0\n",
       "Education            0\n",
       "Dependents           0\n",
       "Married              0\n",
       "Gender               0\n",
       "Loan_ID              0\n",
       "dtype: int64"
      ]
     },
     "execution_count": 49,
     "metadata": {},
     "output_type": "execute_result"
    }
   ],
   "source": [
    "loanDf_imp.isnull().sum().sort_values(ascending=False)"
   ]
  },
  {
   "cell_type": "code",
   "execution_count": 192,
   "metadata": {
    "collapsed": true
   },
   "outputs": [],
   "source": [
    "data=loanDf_imp\n",
    "cat_vars=['Dependents','Gender','Married','Education','Self_Employed','Property_Area','Credit_History']\n",
    "for var in cat_vars:\n",
    "    cat_list='var'+'_'+var\n",
    "    cat_list = pd.get_dummies(data[var], prefix=var)\n",
    "    data1=data.join(cat_list)\n",
    "    data=data1\n",
    "data_vars=data.columns.values.tolist()\n",
    "to_keep=[i for i in data_vars if i not in cat_vars]"
   ]
  },
  {
   "cell_type": "code",
   "execution_count": 193,
   "metadata": {
    "collapsed": true
   },
   "outputs": [],
   "source": [
    "from sklearn.feature_selection import RFE\n",
    "from sklearn.linear_model import LogisticRegression\n",
    "logreg = LogisticRegression()\n",
    "rfe = RFE(logreg,5)\n",
    "\n",
    "data=data[to_keep].dropna()\n",
    "data_X=data.drop(['Loan_Status','Loan_ID'],axis=1)\n",
    "data_y=data['Loan_Status']"
   ]
  },
  {
   "cell_type": "code",
   "execution_count": 194,
   "metadata": {},
   "outputs": [
    {
     "data": {
      "text/plain": [
       "Index(['ApplicantIncome', 'CoapplicantIncome', 'LoanAmount',\n",
       "       'Loan_Amount_Term', 'total_income', 'Dependents_0', 'Dependents_1',\n",
       "       'Dependents_2', 'Dependents_3+', 'Gender_Female', 'Gender_Male',\n",
       "       'Married_No', 'Married_Yes', 'Education_Graduate',\n",
       "       'Education_Not Graduate', 'Self_Employed_No', 'Self_Employed_Yes',\n",
       "       'Property_Area_Rural', 'Property_Area_Semiurban', 'Property_Area_Urban',\n",
       "       'Credit_History_0.0', 'Credit_History_1.0'],\n",
       "      dtype='object')"
      ]
     },
     "execution_count": 194,
     "metadata": {},
     "output_type": "execute_result"
    }
   ],
   "source": [
    "data_X.columns"
   ]
  },
  {
   "cell_type": "code",
   "execution_count": 195,
   "metadata": {
    "collapsed": true
   },
   "outputs": [],
   "source": [
    "testchi=data_X.drop(['ApplicantIncome', 'CoapplicantIncome', 'LoanAmount',\n",
    "       'Loan_Amount_Term', 'Dependents_0','Dependents_3+','Dependents_2', 'Gender_Female', 'Gender_Male', 'Married_No','Education_Graduate', 'Education_Not Graduate',\n",
    "       'Self_Employed_No', 'Self_Employed_Yes','Property_Area_Urban','total_income'],axis=1)"
   ]
  },
  {
   "cell_type": "code",
   "execution_count": 53,
   "metadata": {},
   "outputs": [
    {
     "name": "stdout",
     "output_type": "stream",
     "text": [
      "Accuracy of logistic regression classifier on test set: 0.83\n"
     ]
    },
    {
     "name": "stderr",
     "output_type": "stream",
     "text": [
      "C:\\Users\\Essam\\Anaconda3\\lib\\site-packages\\sklearn\\cross_validation.py:41: DeprecationWarning: This module was deprecated in version 0.18 in favor of the model_selection module into which all the refactored classes and functions are moved. Also note that the interface of the new CV iterators are different from that of this module. This module will be removed in 0.20.\n",
      "  \"This module will be removed in 0.20.\", DeprecationWarning)\n"
     ]
    }
   ],
   "source": [
    "from sklearn.linear_model import LogisticRegression\n",
    "from sklearn.cross_validation import train_test_split\n",
    "\n",
    "X_train, X_test, y_train, y_test = train_test_split(testchi, data_y, test_size=0.3, random_state=0)\n",
    "\n",
    "logreg = LogisticRegression()\n",
    "logreg.fit(X_train, y_train)\n",
    "y_pred = logreg.predict(X_test)\n",
    "print('Accuracy of logistic regression classifier on test set: {:.2f}'.format(logreg.score(X_test, y_test)))"
   ]
  },
  {
   "cell_type": "code",
   "execution_count": 54,
   "metadata": {},
   "outputs": [
    {
     "name": "stdout",
     "output_type": "stream",
     "text": [
      "[[ 21  30]\n",
      " [  2 132]]\n",
      "             precision    recall  f1-score   support\n",
      "\n",
      "          N       0.91      0.41      0.57        51\n",
      "          Y       0.81      0.99      0.89       134\n",
      "\n",
      "avg / total       0.84      0.83      0.80       185\n",
      "\n"
     ]
    }
   ],
   "source": [
    "from sklearn.metrics import confusion_matrix,classification_report\n",
    "confusion_matrix = confusion_matrix(y_test, y_pred)\n",
    "print(confusion_matrix)\n",
    "print(classification_report(y_test, y_pred)) "
   ]
  },
  {
   "cell_type": "code",
   "execution_count": null,
   "metadata": {
    "collapsed": true
   },
   "outputs": [],
   "source": [
    "--previous result\n",
    "\n",
    "[[ 27  23]\n",
    " [  6 118]]\n",
    "             precision    recall  f1-score   support\n",
    "\n",
    "          N       0.82      0.54      0.65        50\n",
    "          Y       0.84      0.95      0.89       124\n",
    "\n",
    "avg / total       0.83      0.83      0.82       174"
   ]
  },
  {
   "cell_type": "code",
   "execution_count": null,
   "metadata": {
    "collapsed": true
   },
   "outputs": [],
   "source": [
    "\n",
    "بقدر اشوف 99 % من ال Y\n",
    "بس هبقي عندي غلط بنسبة 19 %\n",
    "so variance and bias still big,\n",
    "we will try Ridge Regression ^_^"
   ]
  },
  {
   "cell_type": "markdown",
   "metadata": {},
   "source": [
    "## Random Forest"
   ]
  },
  {
   "cell_type": "code",
   "execution_count": 126,
   "metadata": {
    "collapsed": true
   },
   "outputs": [],
   "source": [
    "from sklearn.cross_validation import train_test_split\n",
    "X_train, X_test, y_train, y_test = train_test_split(testchi,data_y, test_size=0.2, random_state=0)"
   ]
  },
  {
   "cell_type": "code",
   "execution_count": 153,
   "metadata": {},
   "outputs": [
    {
     "name": "stdout",
     "output_type": "stream",
     "text": [
      "Train Accuracy of Random Forest: 0.80\n",
      "Test Accuracy of Random Forest: 0.83\n"
     ]
    }
   ],
   "source": [
    "from sklearn.ensemble import RandomForestClassifier\n",
    "clf = RandomForestClassifier(n_estimators=100, max_depth=4,random_state=0)\n",
    "clf.fit(X_train, y_train)\n",
    "y_pred=clf.predict(X_test)\n",
    "print('Train Accuracy of Random Forest: {:.2f}'.format(clf.score(X_train, y_train)))\n",
    "print('Test Accuracy of Random Forest: {:.2f}'.format(clf.score(X_test, y_test)))"
   ]
  },
  {
   "cell_type": "code",
   "execution_count": 156,
   "metadata": {},
   "outputs": [
    {
     "name": "stdout",
     "output_type": "stream",
     "text": [
      "[[ 68  91]\n",
      " [  5 327]]\n",
      "             precision    recall  f1-score   support\n",
      "\n",
      "          N       0.93      0.43      0.59       159\n",
      "          Y       0.78      0.98      0.87       332\n",
      "\n",
      "avg / total       0.83      0.80      0.78       491\n",
      "\n",
      "[[14 19]\n",
      " [ 2 88]]\n",
      "             precision    recall  f1-score   support\n",
      "\n",
      "          N       0.88      0.42      0.57        33\n",
      "          Y       0.82      0.98      0.89        90\n",
      "\n",
      "avg / total       0.84      0.83      0.81       123\n",
      "\n"
     ]
    }
   ],
   "source": [
    "from sklearn.metrics import confusion_matrix,classification_report\n",
    "print(confusion_matrix(y_train,clf.predict(X_train)))\n",
    "print(classification_report(y_train,clf.predict(X_train))) \n",
    "print(confusion_matrix(y_test, y_pred))\n",
    "print(classification_report(y_test, y_pred)) "
   ]
  },
  {
   "cell_type": "code",
   "execution_count": null,
   "metadata": {
    "collapsed": true
   },
   "outputs": [],
   "source": [
    "low variance but High Bias"
   ]
  },
  {
   "cell_type": "code",
   "execution_count": 151,
   "metadata": {},
   "outputs": [
    {
     "data": {
      "text/plain": [
       "0.6872964169381107"
      ]
     },
     "execution_count": 151,
     "metadata": {},
     "output_type": "execute_result"
    }
   ],
   "source": [
    "data[data['Loan_Status']=='Y'].count()[0]/data.shape[0]"
   ]
  },
  {
   "cell_type": "code",
   "execution_count": null,
   "metadata": {
    "collapsed": true
   },
   "outputs": [],
   "source": [
    "##low variance but High Bias\n",
    "so to solve this issue:\n",
    "    1- we could add new feature to reduce error.\n",
    "    2- increse model complexity(drive new vriable)\n",
    "    3- reduce regularization parameter"
   ]
  },
  {
   "cell_type": "code",
   "execution_count": null,
   "metadata": {
    "collapsed": true
   },
   "outputs": [],
   "source": [
    "but we first will enhance set of variables because they have much extremes,"
   ]
  },
  {
   "cell_type": "code",
   "execution_count": 158,
   "metadata": {},
   "outputs": [],
   "source": [
    "loanDf_imp['total_income']=loanDf_imp['ApplicantIncome']+loanDf_imp['CoapplicantIncome']"
   ]
  },
  {
   "cell_type": "code",
   "execution_count": 161,
   "metadata": {
    "collapsed": true
   },
   "outputs": [],
   "source": [
    "loanDf_imp['LoanAmount']=np.log(loanDf_imp['LoanAmount'])"
   ]
  },
  {
   "cell_type": "code",
   "execution_count": 175,
   "metadata": {},
   "outputs": [
    {
     "data": {
      "image/png": "[encoded data removed]",
      "text/plain": [
       "<matplotlib.figure.Figure at 0x23e5a79cc50>"
      ]
     },
     "metadata": {},
     "output_type": "display_data"
    }
   ],
   "source": [
    "import matplotlib.pyplot as plt\n",
    "sns.heatmap(loanDf_imp[['total_income','LoanAmount','Loan_Amount_Term']].corr(), annot=True, fmt=\".2f\")\n",
    "plt.show()"
   ]
  },
  {
   "cell_type": "code",
   "execution_count": 182,
   "metadata": {},
   "outputs": [
    {
     "name": "stderr",
     "output_type": "stream",
     "text": [
      "C:\\Users\\Essam\\Anaconda3\\lib\\site-packages\\numpy\\core\\fromnumeric.py:52: FutureWarning: reshape is deprecated and will raise in a subsequent release. Please use .values.reshape(...) instead\n",
      "  return getattr(obj, method)(*args, **kwds)\n"
     ]
    },
    {
     "data": {
      "image/png": "[encoded data removed]",
      "text/plain": [
       "<matplotlib.figure.Figure at 0x23e5b77c1d0>"
      ]
     },
     "metadata": {},
     "output_type": "display_data"
    }
   ],
   "source": [
    "loanDf_imp.boxplot(column='total_income', by='Loan_Status',showfliers=False)\n",
    "plt.show()"
   ]
  },
  {
   "cell_type": "code",
   "execution_count": 186,
   "metadata": {},
   "outputs": [
    {
     "name": "stderr",
     "output_type": "stream",
     "text": [
      "C:\\Users\\Essam\\Anaconda3\\lib\\site-packages\\numpy\\core\\fromnumeric.py:52: FutureWarning: reshape is deprecated and will raise in a subsequent release. Please use .values.reshape(...) instead\n",
      "  return getattr(obj, method)(*args, **kwds)\n"
     ]
    },
    {
     "data": {
      "image/png": "[encoded data removed]",
      "text/plain": [
       "<matplotlib.figure.Figure at 0x23e5b941400>"
      ]
     },
     "metadata": {},
     "output_type": "display_data"
    }
   ],
   "source": [
    "loanDf_imp.boxplot(column='LoanAmount', by='Loan_Status',showfliers=False)\n",
    "plt.show()"
   ]
  },
  {
   "cell_type": "code",
   "execution_count": 187,
   "metadata": {},
   "outputs": [
    {
     "name": "stderr",
     "output_type": "stream",
     "text": [
      "C:\\Users\\Essam\\Anaconda3\\lib\\site-packages\\numpy\\core\\fromnumeric.py:52: FutureWarning: reshape is deprecated and will raise in a subsequent release. Please use .values.reshape(...) instead\n",
      "  return getattr(obj, method)(*args, **kwds)\n"
     ]
    },
    {
     "data": {
      "image/png": "[encoded data removed]",
      "text/plain": [
       "<matplotlib.figure.Figure at 0x23e5c9bcd68>"
      ]
     },
     "metadata": {},
     "output_type": "display_data"
    }
   ],
   "source": [
    "loanDf_imp.boxplot(column='Loan_Amount_Term', by='Loan_Status',showfliers=False)\n",
    "plt.show()"
   ]
  },
  {
   "cell_type": "markdown",
   "metadata": {},
   "source": [
    "### Still no significance after log transformation"
   ]
  },
  {
   "cell_type": "code",
   "execution_count": 276,
   "metadata": {},
   "outputs": [
    {
     "data": {
      "text/plain": [
       "Index(['Dependents_1', 'Married_Yes', 'Property_Area_Rural',\n",
       "       'Property_Area_Semiurban', 'Credit_History_0.0', 'Credit_History_1.0'],\n",
       "      dtype='object')"
      ]
     },
     "execution_count": 276,
     "metadata": {},
     "output_type": "execute_result"
    }
   ],
   "source": [
    "testchi.columns"
   ]
  },
  {
   "cell_type": "markdown",
   "metadata": {},
   "source": [
    "## Cross Validation"
   ]
  },
  {
   "cell_type": "code",
   "execution_count": 277,
   "metadata": {},
   "outputs": [
    {
     "name": "stdout",
     "output_type": "stream",
     "text": [
      "Accuracy: 0.80 (+/- 0.04)\n"
     ]
    }
   ],
   "source": [
    "from sklearn.model_selection import cross_val_score\n",
    "from sklearn.cross_validation import train_test_split\n",
    "X_train, X_test, y_train, y_test = train_test_split(testchi,data_y, test_size=0.3, random_state=0)\n",
    "\n",
    "clf = RandomForestClassifier(n_estimators=10, max_depth=4,random_state=0)\n",
    "scores = cross_val_score(clf,X_train,y_train,cv=5)\n",
    "print(\"Accuracy: %0.2f (+/- %0.2f)\" % (scores.mean(), scores.std()))"
   ]
  },
  {
   "cell_type": "code",
   "execution_count": 278,
   "metadata": {},
   "outputs": [],
   "source": [
    "from sklearn.utils import shuffle\n",
    "\n",
    "data = shuffle(data)\n",
    "data_X=data.drop(['Loan_Status','Loan_ID'],axis=1)\n",
    "data_y=data['Loan_Status']\n",
    "testchi=data_X.drop(['ApplicantIncome', 'CoapplicantIncome', 'LoanAmount',\n",
    "       'Loan_Amount_Term', 'Dependents_0','Dependents_3+','Dependents_2', 'Gender_Female', 'Gender_Male', 'Married_No','Education_Graduate', 'Education_Not Graduate',\n",
    "       'Self_Employed_No', 'Self_Employed_Yes','Property_Area_Urban','total_income'],axis=1)\n"
   ]
  },
  {
   "cell_type": "code",
   "execution_count": 303,
   "metadata": {},
   "outputs": [
    {
     "name": "stdout",
     "output_type": "stream",
     "text": [
      "Accuracy: 0.80 (+/- 0.03)\n"
     ]
    }
   ],
   "source": [
    "from sklearn.model_selection import cross_val_score\n",
    "from sklearn.cross_validation import train_test_split\n",
    "X_train, X_test, y_train, y_test = train_test_split(testchi,data_y, test_size=0.3, random_state=0)\n",
    "\n",
    "clf = RandomForestClassifier(n_estimators=10, max_depth=3,random_state=0)\n",
    "scores = cross_val_score(clf,X_train,y_train,cv=5)\n",
    "print(\"Accuracy: %0.2f (+/- %0.2f)\" % (scores.mean(), scores.std()))"
   ]
  },
  {
   "cell_type": "code",
   "execution_count": 304,
   "metadata": {},
   "outputs": [
    {
     "name": "stdout",
     "output_type": "stream",
     "text": [
      "Test Accuracy of Random Forest: 0.84\n"
     ]
    }
   ],
   "source": [
    "clf.fit(X_train, y_train)\n",
    "y_pred=clf.predict(X_test)\n",
    "print('Test Accuracy of Random Forest: {:.2f}'.format(clf.score(X_test, y_test)))"
   ]
  },
  {
   "cell_type": "code",
   "execution_count": 305,
   "metadata": {},
   "outputs": [
    {
     "name": "stdout",
     "output_type": "stream",
     "text": [
      "[[ 29  27]\n",
      " [  2 127]]\n",
      "             precision    recall  f1-score   support\n",
      "\n",
      "          N       0.94      0.52      0.67        56\n",
      "          Y       0.82      0.98      0.90       129\n",
      "\n",
      "avg / total       0.86      0.84      0.83       185\n",
      "\n"
     ]
    }
   ],
   "source": [
    "from sklearn.metrics import confusion_matrix,classification_report\n",
    "print(confusion_matrix(y_test, y_pred))\n",
    "print(classification_report(y_test, y_pred))"
   ]
  },
  {
   "cell_type": "markdown",
   "metadata": {},
   "source": [
    "### Stratified crossvalidation"
   ]
  },
  {
   "cell_type": "code",
   "execution_count": 306,
   "metadata": {},
   "outputs": [
    {
     "data": {
      "text/plain": [
       "0.7949117341640706"
      ]
     },
     "execution_count": 306,
     "metadata": {},
     "output_type": "execute_result"
    }
   ],
   "source": [
    "from sklearn.model_selection import StratifiedKFold\n",
    "skf = StratifiedKFold(n_splits=4)\n",
    "\n",
    "score=[]\n",
    "for train_index, test_index in skf.split(X_train,y_train):\n",
    "    X_tr,X_ts = X_train.values[train_index],X_train.values[test_index]\n",
    "    y_tr,y_ts= y_train.values[train_index], y_train.values[test_index]\n",
    "    clf.fit(X_tr,y_tr)\n",
    "    score.append(clf.score(X_ts,y_ts))\n",
    "    \n",
    "np.mean(score)    "
   ]
  },
  {
   "cell_type": "code",
   "execution_count": null,
   "metadata": {
    "collapsed": true
   },
   "outputs": [],
   "source": [
    "So Finaly: cross validation is 80% and test is 84%\n",
    "    @ we still does nt handle high bias problem yet.\n",
    "    so we have two choices :\n",
    "        1-increase model complexity\n",
    "        2-reduce model regularization"
   ]
  },
  {
   "cell_type": "code",
   "execution_count": null,
   "metadata": {
    "collapsed": true
   },
   "outputs": [],
   "source": [
    "'TotalIncome_log','LoanAmount_log','Credit_History','Dependents','Property_Area'"
   ]
  },
  {
   "cell_type": "code",
   "execution_count": 307,
   "metadata": {},
   "outputs": [],
   "source": [
    "data_X.columns\n",
    "test=data_X[['Property_Area_Rural', 'Property_Area_Semiurban', 'Property_Area_Urban',\n",
    "       'Credit_History_0.0', 'Credit_History_1.0','total_income','LoanAmount']]"
   ]
  },
  {
   "cell_type": "code",
   "execution_count": 309,
   "metadata": {},
   "outputs": [
    {
     "name": "stdout",
     "output_type": "stream",
     "text": [
      "Accuracy: 0.79 (+/- 0.03)\n"
     ]
    }
   ],
   "source": [
    "X_train, X_test, y_train, y_test = train_test_split(test,data_y, test_size=0.3, random_state=0)\n",
    "\n",
    "clf = RandomForestClassifier(n_estimators=10, max_depth=3,random_state=0)\n",
    "scores = cross_val_score(clf,X_train,y_train,cv=5)\n",
    "print(\"Accuracy: %0.2f (+/- %0.2f)\" % (scores.mean(), scores.std()))"
   ]
  },
  {
   "cell_type": "code",
   "execution_count": 310,
   "metadata": {},
   "outputs": [
    {
     "name": "stdout",
     "output_type": "stream",
     "text": [
      "Test Accuracy of Random Forest: 0.84\n"
     ]
    }
   ],
   "source": [
    "clf.fit(X_train, y_train)\n",
    "y_pred=clf.predict(X_test)\n",
    "print('Test Accuracy of Random Forest: {:.2f}'.format(clf.score(X_test, y_test)))"
   ]
  },
  {
   "cell_type": "code",
   "execution_count": 311,
   "metadata": {},
   "outputs": [
    {
     "name": "stdout",
     "output_type": "stream",
     "text": [
      "[[ 29  27]\n",
      " [  2 127]]\n",
      "             precision    recall  f1-score   support\n",
      "\n",
      "          N       0.94      0.52      0.67        56\n",
      "          Y       0.82      0.98      0.90       129\n",
      "\n",
      "avg / total       0.86      0.84      0.83       185\n",
      "\n"
     ]
    }
   ],
   "source": [
    "from sklearn.metrics import confusion_matrix,classification_report\n",
    "print(confusion_matrix(y_test, y_pred))\n",
    "print(classification_report(y_test, y_pred))"
   ]
  }
 ],
 "metadata": {
  "kernelspec": {
   "display_name": "Python 3",
   "language": "python",
   "name": "python3"
  },
  "language_info": {
   "codemirror_mode": {
    "name": "ipython",
    "version": 3
   },
   "file_extension": ".py",
   "mimetype": "text/x-python",
   "name": "python",
   "nbconvert_exporter": "python",
   "pygments_lexer": "ipython3",
   "version": "3.6.3"
  }
 },
 "nbformat": 4,
 "nbformat_minor": 2
}
